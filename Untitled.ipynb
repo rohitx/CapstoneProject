{
 "cells": [
  {
   "cell_type": "code",
   "execution_count": 2,
   "metadata": {
    "collapsed": true
   },
   "outputs": [],
   "source": [
    "from bs4 import BeautifulSoup\n",
    "import urllib2\n",
    "import pandas as pd"
   ]
  },
  {
   "cell_type": "code",
   "execution_count": 103,
   "metadata": {
    "collapsed": false
   },
   "outputs": [],
   "source": [
    "def getIndieGameInfo(gameurl):\n",
    "    d = urllib2.urlopen(gameurl).read()\n",
    "    soup = BeautifulSoup(d)\n",
    "\n",
    "    mydivs = soup.findAll(\"div\", { \"class\" : \"row clear\" })\n",
    "\n",
    "    #mydivs.findAll('a', 'href'=True)\n",
    "\n",
    "\n",
    "    mylist = []\n",
    "    for a in mydivs:\n",
    "        mylist.append(a.text)\n",
    "    print \"mylist:\", mylist\n",
    "    for l in mylist:\n",
    "        a = l.split(\"\\n\")\n",
    "        if 'Platform' in a or 'Platforms' in a:\n",
    "            platform = a[2]\n",
    "        elif 'Developed By' in a or 'Developer' in a or 'Developer &amp; Publisher' in a:\n",
    "             developer = a[2]\n",
    "        elif 'Engine' in a:\n",
    "            engine =  a[2]\n",
    "        elif 'Release Date' in a:\n",
    "            release_date = a[2]\n",
    "        elif 'Genre' in a:\n",
    "            genre = a[2]\n",
    "        elif 'Theme' in a:\n",
    "            theme =  a[2]\n",
    "        elif 'Players' in a:\n",
    "            players = a[2]\n",
    "\n",
    "    divScore = soup.findAll(\"div\", { \"class\" : \"score\" })\n",
    "    divRating = soup.findAll(\"div\", { \"class\" : \"rating\" })\n",
    "    score = []\n",
    "    rating = []\n",
    "    for s in divScore:\n",
    "        score.append(s.text)\n",
    "    for r in divRating:\n",
    "        rating.append(r.text)\n",
    "\n",
    "    s = score[0].replace('\\n', '')\n",
    "    score_final = s.split(\"Average\")[-1]\n",
    "    rating = (rating[0].strip(\"\\n\"))[:3]\n",
    "\n",
    "    # Break platform into Boolean\n",
    "    ostype = {'Windows': False, 'Mac': False, 'Linux': False}\n",
    "    oses = platform.split(\",\")\n",
    "    oses = [x.strip() for x in oses]\n",
    "    #print \"Platform:\", platform\n",
    "    #print \"oses: \", oses\n",
    "\n",
    "    for p in oses:\n",
    "        #print p\n",
    "        if p in ostype:\n",
    "            ostype[p] = True\n",
    "    platform_check = [value for key, value in ostype.iteritems()]\n",
    "    #print platform_check\n",
    "    return platform, developer, engine, release_date,\\\n",
    "           genre, theme, players, score_final, rating"
   ]
  },
  {
   "cell_type": "code",
   "execution_count": 104,
   "metadata": {
    "collapsed": true
   },
   "outputs": [],
   "source": [
    "#gameurl = \"http://www.indiedb.com/games/heist-night\"\n",
    "#gameurl = \"http://www.indiedb.com/games/beyond-sol\""
   ]
  },
  {
   "cell_type": "code",
   "execution_count": 105,
   "metadata": {
    "collapsed": false
   },
   "outputs": [],
   "source": [
    "#platform, developer, engine, release_date, genre, theme, players, score_final, rating = getIndieGameInfo(gameurl)"
   ]
  },
  {
   "cell_type": "code",
   "execution_count": 106,
   "metadata": {
    "collapsed": false
   },
   "outputs": [
    {
     "name": "stdout",
     "output_type": "stream",
     "text": [
      "mylist: [u'\\nIcon\\n\\n', u'\\nPlatform\\nWindows\\n', u'\\nDeveloped By\\nSoBCharacter\\n', u'\\nEngine\\nCustom Built\\n', u'\\nOfficial Page\\nAeeria.com\\n', u'\\nRelease Date\\nReleased Sep 30, 2013\\n', u'\\nGame Watch\\nTrack this game\\n', u'\\nShare\\n\\n\\n\\n', u'\\nGenre\\nRole Playing\\n', u'\\nTheme\\nFantasy\\n', u'\\nPlayers\\nMMO\\n', u'\\nProject\\nIndie\\n', u'\\nBoxshot\\n\\n', u'\\nRank\\n426 of 29,511\\n', u'\\nVisits\\n3,418 (25 today)\\n', u'\\nLast Update\\n1 day ago\\n', u'\\nWatchers\\n3 members\\n', u'\\nFiles\\n2\\n', u'\\nArticles\\n2\\n']\n",
      "mylist: [u'\\nIcon\\n\\n', u'\\nPlatform\\nWindows\\n', u'\\nDeveloper\\nOPEN WORLD 3D SURVIVAL GAME DEVELOPMENT\\n', u'\\nEngine\\nUnreal Engine 4\\n', u'\\nOfficial Page\\nSites.google.com\\n', u'\\nRelease Date\\nReleased Jan 16, 2014\\n', u'\\nGame Watch\\nTrack this game\\n', u'\\nShare\\n\\n\\n\\n', u'\\nGenre\\nFirst Person Shooter\\n', u'\\nTheme\\nRealism\\n', u'\\nPlayers\\nSingle & Multiplayer\\n', u'\\nProject\\nIndie\\n', u'\\nBoxshot\\n\\n', u'\\nRank\\n38 of 29,511\\n', u'\\nVisits\\n308,588 (148 today)\\n', u'\\nLast Update\\n1 day ago\\n', u'\\nWatchers\\n642 members\\n', u'\\nFiles\\n4\\n', u'\\nArticles\\n6\\n', u'\\nReviews\\n10\\n']\n",
      "mylist: [u'\\nIcon\\n\\n', u'\\nPlatforms\\nWindows, Mac, Linux\\n', u'\\nDeveloped By\\nastrokeofmadness\\n', u\"\\nEngine\\nRen'py\\n\", u'\\nOfficial Page\\nLemmasoft.renai.us\\n', u'\\nRelease Date\\nReleased Apr 15, 2015\\n', u'\\nGame Watch\\nTrack this game\\n', u'\\nShare\\n\\n\\n\\n', u'\\nGenre\\nVisual Novel\\n', u'\\nTheme\\nRealism\\n', u'\\nPlayers\\nSingle Player\\n', u'\\nProject\\nIndie\\n', u'\\nBoxshot\\n\\n', u'\\nRank\\n3,897 of 29,511\\n', u'\\nVisits\\n4,728 (14 today)\\n', u'\\nLast Update\\n1 hour ago\\n', u'\\nWatchers\\n2 members\\n', u'\\nFiles\\n6\\n']\n",
      "mylist: [u'\\nIcon\\n\\n', u'\\nPlatform\\nWindows\\n', u'\\nDeveloped By\\nraphael-v\\n', u'\\nEngine\\nGameMaker: Studio\\n', u'\\nRelease Date\\nReleased Aug 20, 2015\\n', u'\\nGame Watch\\nTrack this game\\n', u'\\nShare\\n\\n\\n\\n', u'\\nGenre\\nPlatformer\\n', u'\\nTheme\\nAnime\\n', u'\\nPlayers\\nSingle Player\\n', u'\\nProject\\nIndie\\n', u'\\nRank\\n550 of 29,511\\n', u'\\nVisits\\n717 (22 today)\\n', u'\\nLast Update\\n1 day ago\\n', u'\\nWatchers\\n1 member\\n', u'\\nFiles\\n2\\n']\n",
      "mylist: [u'\\nIcon\\n\\n', u'\\nPlatforms\\nWindows, Mac, Linux\\n', u'\\nEngine\\nCustom Built\\n', u'\\nOfficial Page\\nIcantescape.com\\n', u'\\nRelease Date\\nReleased Sep 17, 2015\\n', u'\\nGame Watch\\nTrack this game\\n', u'\\nShare\\n\\n\\n\\n', u'\\nGenre\\nAdventure\\n', u'\\nTheme\\nHorror\\n', u'\\nPlayers\\nSingle Player\\n', u'\\nProject\\nIndie\\n', u\"\\n\\n\\nI Can't Escape\\nAdventure\\n\\n\", u\"\\n\\n\\nI Can't Escape: Darkness\\nAdventure\\n\\n\", u'\\nRank\\n61 of 29,511\\n', u'\\nVisits\\n12,140 (123 today)\\n', u'\\nLast Update\\n1 day ago\\n', u'\\nWatchers\\n88 members\\n', u'\\nArticles\\n16\\n']\n"
     ]
    },
    {
     "ename": "UnboundLocalError",
     "evalue": "local variable 'developer' referenced before assignment",
     "output_type": "error",
     "traceback": [
      "\u001b[0;31m---------------------------------------------------------------------------\u001b[0m",
      "\u001b[0;31mUnboundLocalError\u001b[0m                         Traceback (most recent call last)",
      "\u001b[0;32m<ipython-input-106-4a0b114fd1f1>\u001b[0m in \u001b[0;36m<module>\u001b[0;34m()\u001b[0m\n\u001b[1;32m      6\u001b[0m     \u001b[0;32mfor\u001b[0m \u001b[0mgame\u001b[0m \u001b[0;32min\u001b[0m \u001b[0mtry_games\u001b[0m\u001b[0;34m:\u001b[0m\u001b[0;34m\u001b[0m\u001b[0m\n\u001b[1;32m      7\u001b[0m         \u001b[0mgameurl\u001b[0m \u001b[0;34m=\u001b[0m \u001b[0;34m\"http://indiedb.com\"\u001b[0m\u001b[0;34m+\u001b[0m\u001b[0mgame\u001b[0m\u001b[0;34m\u001b[0m\u001b[0m\n\u001b[0;32m----> 8\u001b[0;31m         \u001b[0mplatform_check\u001b[0m\u001b[0;34m,\u001b[0m \u001b[0mdeveloper\u001b[0m\u001b[0;34m,\u001b[0m \u001b[0mengine\u001b[0m\u001b[0;34m,\u001b[0m \u001b[0mrelease_date\u001b[0m\u001b[0;34m,\u001b[0m \u001b[0mgenre\u001b[0m\u001b[0;34m,\u001b[0m \u001b[0mtheme\u001b[0m\u001b[0;34m,\u001b[0m \u001b[0mplayers\u001b[0m\u001b[0;34m,\u001b[0m \u001b[0mscore_final\u001b[0m\u001b[0;34m,\u001b[0m \u001b[0mrating\u001b[0m \u001b[0;34m=\u001b[0m \u001b[0mgetIndieGameInfo\u001b[0m\u001b[0;34m(\u001b[0m\u001b[0mgameurl\u001b[0m\u001b[0;34m)\u001b[0m\u001b[0;34m\u001b[0m\u001b[0m\n\u001b[0m\u001b[1;32m      9\u001b[0m         \u001b[0mf\u001b[0m\u001b[0;34m.\u001b[0m\u001b[0mwrite\u001b[0m\u001b[0;34m(\u001b[0m\u001b[0;34m\"{p:s},{d:s},{e:s},{r:s},{g:s},{t:s},{pl:s},               {sf:s},{ra:s}, {grl:s},\\n\"\u001b[0m\u001b[0;34m.\u001b[0m\u001b[0mformat\u001b[0m\u001b[0;34m(\u001b[0m\u001b[0mp\u001b[0m\u001b[0;34m=\u001b[0m\u001b[0mplatform_check\u001b[0m\u001b[0;34m,\u001b[0m \u001b[0md\u001b[0m\u001b[0;34m=\u001b[0m\u001b[0mdeveloper\u001b[0m\u001b[0;34m,\u001b[0m \u001b[0me\u001b[0m\u001b[0;34m=\u001b[0m\u001b[0mengine\u001b[0m\u001b[0;34m,\u001b[0m \u001b[0mr\u001b[0m\u001b[0;34m=\u001b[0m\u001b[0mrelease_date\u001b[0m\u001b[0;34m,\u001b[0m                                      \u001b[0mg\u001b[0m\u001b[0;34m=\u001b[0m\u001b[0mgenre\u001b[0m\u001b[0;34m,\u001b[0m \u001b[0mt\u001b[0m\u001b[0;34m=\u001b[0m\u001b[0mtheme\u001b[0m\u001b[0;34m,\u001b[0m \u001b[0mpl\u001b[0m\u001b[0;34m=\u001b[0m\u001b[0mplayers\u001b[0m\u001b[0;34m,\u001b[0m \u001b[0msf\u001b[0m\u001b[0;34m=\u001b[0m\u001b[0mscore_final\u001b[0m\u001b[0;34m,\u001b[0m \u001b[0mra\u001b[0m\u001b[0;34m=\u001b[0m\u001b[0mrating\u001b[0m\u001b[0;34m,\u001b[0m \u001b[0mgrl\u001b[0m\u001b[0;34m=\u001b[0m\u001b[0mgameurl\u001b[0m\u001b[0;34m)\u001b[0m\u001b[0;34m)\u001b[0m\u001b[0;34m\u001b[0m\u001b[0m\n\u001b[1;32m     10\u001b[0m \u001b[0mf\u001b[0m\u001b[0;34m.\u001b[0m\u001b[0mclose\u001b[0m\u001b[0;34m(\u001b[0m\u001b[0;34m)\u001b[0m\u001b[0;34m\u001b[0m\u001b[0m\n",
      "\u001b[0;32m<ipython-input-103-b11e9e298c52>\u001b[0m in \u001b[0;36mgetIndieGameInfo\u001b[0;34m(gameurl)\u001b[0m\n\u001b[1;32m     55\u001b[0m     \u001b[0mplatform_check\u001b[0m \u001b[0;34m=\u001b[0m \u001b[0;34m[\u001b[0m\u001b[0mvalue\u001b[0m \u001b[0;32mfor\u001b[0m \u001b[0mkey\u001b[0m\u001b[0;34m,\u001b[0m \u001b[0mvalue\u001b[0m \u001b[0;32min\u001b[0m \u001b[0mostype\u001b[0m\u001b[0;34m.\u001b[0m\u001b[0miteritems\u001b[0m\u001b[0;34m(\u001b[0m\u001b[0;34m)\u001b[0m\u001b[0;34m]\u001b[0m\u001b[0;34m\u001b[0m\u001b[0m\n\u001b[1;32m     56\u001b[0m     \u001b[0;31m#print platform_check\u001b[0m\u001b[0;34m\u001b[0m\u001b[0;34m\u001b[0m\u001b[0m\n\u001b[0;32m---> 57\u001b[0;31m     \u001b[0;32mreturn\u001b[0m \u001b[0mplatform\u001b[0m\u001b[0;34m,\u001b[0m \u001b[0mdeveloper\u001b[0m\u001b[0;34m,\u001b[0m \u001b[0mengine\u001b[0m\u001b[0;34m,\u001b[0m \u001b[0mrelease_date\u001b[0m\u001b[0;34m,\u001b[0m           \u001b[0mgenre\u001b[0m\u001b[0;34m,\u001b[0m \u001b[0mtheme\u001b[0m\u001b[0;34m,\u001b[0m \u001b[0mplayers\u001b[0m\u001b[0;34m,\u001b[0m \u001b[0mscore_final\u001b[0m\u001b[0;34m,\u001b[0m \u001b[0mrating\u001b[0m\u001b[0;34m\u001b[0m\u001b[0m\n\u001b[0m",
      "\u001b[0;31mUnboundLocalError\u001b[0m: local variable 'developer' referenced before assignment"
     ]
    }
   ],
   "source": [
    "# Get the game link from gamelist.csv file\n",
    "df = pd.read_csv(\"IndieGameDB/gamelist.csv\", names = [\"link\", \"name\"])\n",
    "try_games = df.link.loc[1:5]\n",
    "# Save to csv file:\n",
    "with open(\"games_description.csv\", \"w\") as f:\n",
    "    for game in try_games:\n",
    "        gameurl = \"http://indiedb.com\"+game\n",
    "        platform_check, developer, engine, release_date, genre, theme, players, score_final, rating = getIndieGameInfo(gameurl)\n",
    "        f.write(\"{p:s},{d:s},{e:s},{r:s},{g:s},{t:s},{pl:s},\\\n",
    "               {sf:s},{ra:s}, {grl:s},\\n\".format(p=platform_check, d=developer, e=engine, r=release_date,\\\n",
    "                                      g=genre, t=theme, pl=players, sf=score_final, ra=rating, grl=gameurl))\n",
    "f.close()"
   ]
  },
  {
   "cell_type": "code",
   "execution_count": 108,
   "metadata": {
    "collapsed": false
   },
   "outputs": [],
   "source": [
    "mylist = "
   ]
  },
  {
   "cell_type": "code",
   "execution_count": 112,
   "metadata": {
    "collapsed": false
   },
   "outputs": [
    {
     "name": "stdout",
     "output_type": "stream",
     "text": [
      "SoBCharacter\n"
     ]
    }
   ],
   "source": [
    "for l in mylist:\n",
    "    a = l.split(\"\\n\")\n",
    "    if ('Developed By' in a) or ('Developer' in a) or ('Developer &amp; Publisher' in a):\n",
    "        developer = a[2]\n",
    "        print developer"
   ]
  },
  {
   "cell_type": "code",
   "execution_count": null,
   "metadata": {
    "collapsed": true
   },
   "outputs": [],
   "source": []
  }
 ],
 "metadata": {
  "kernelspec": {
   "display_name": "Python 2",
   "language": "python",
   "name": "python2"
  },
  "language_info": {
   "codemirror_mode": {
    "name": "ipython",
    "version": 2
   },
   "file_extension": ".py",
   "mimetype": "text/x-python",
   "name": "python",
   "nbconvert_exporter": "python",
   "pygments_lexer": "ipython2",
   "version": "2.7.10"
  }
 },
 "nbformat": 4,
 "nbformat_minor": 0
}
