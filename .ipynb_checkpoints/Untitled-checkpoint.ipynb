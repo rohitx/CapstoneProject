{
 "cells": [
  {
   "cell_type": "code",
   "execution_count": 2,
   "metadata": {
    "collapsed": true
   },
   "outputs": [],
   "source": [
    "from bs4 import BeautifulSoup\n",
    "import urllib2\n",
    "import pandas as pd"
   ]
  },
  {
   "cell_type": "code",
   "execution_count": 53,
   "metadata": {
    "collapsed": false
   },
   "outputs": [],
   "source": [
    "def getIndieGameInfo(gameurl):\n",
    "    d = urllib2.urlopen(gameurl).read()\n",
    "    soup = BeautifulSoup(d)\n",
    "\n",
    "    mydivs = soup.findAll(\"div\", { \"class\" : \"row clear\" })\n",
    "\n",
    "    #mydivs.findAll('a', 'href'=True)\n",
    "\n",
    "\n",
    "    mylist = []\n",
    "    for a in mydivs:\n",
    "        mylist.append(a.text)\n",
    "\n",
    "    for l in mylist:\n",
    "        a = l.split(\"\\n\")\n",
    "        if 'Platform' in a or 'Platforms' in a:\n",
    "            platform = a[2]\n",
    "        elif 'Developed By' in a or 'Developer' in a or 'Developer & Publisher' in a:\n",
    "             developer = a[2]\n",
    "        elif 'Engine' in a:\n",
    "            engine =  a[2]\n",
    "        elif 'Release Date' in a:\n",
    "            release_date = a[2]\n",
    "        elif 'Genre' in a:\n",
    "            genre = a[2]\n",
    "        elif 'Theme' in a:\n",
    "            theme =  a[2]\n",
    "        elif 'Players' in a:\n",
    "            players = a[2]\n",
    "\n",
    "    divScore = soup.findAll(\"div\", { \"class\" : \"score\" })\n",
    "    divRating = soup.findAll(\"div\", { \"class\" : \"rating\" })\n",
    "    score = []\n",
    "    rating = []\n",
    "    for s in divScore:\n",
    "        score.append(s.text)\n",
    "    for r in divRating:\n",
    "        rating.append(r.text)\n",
    "\n",
    "    s = score[0].replace('\\n', '')\n",
    "    score_final = s.split(\"Average\")[-1]\n",
    "    rating = (rating[0].strip(\"\\n\"))[:3]\n",
    "\n",
    "    # Break platform into Boolean\n",
    "    ostype = {'Windows': False, 'Mac': False, 'Linux': False}\n",
    "    oses = platform.split(\",\")\n",
    "    oses = [x.strip() for x in osx]\n",
    "    print oses\n",
    "    for p in oses:\n",
    "        if p in ostype:\n",
    "            ostype[p] = True\n",
    "    print ostype\n",
    "    platform_check = [value for key, value in ostype.iteritems()]\n",
    "    print platform_check\n",
    "    return platform, developer, engine, release_date,\\\n",
    "           genre, theme, players, score_final, rating"
   ]
  },
  {
   "cell_type": "code",
   "execution_count": 54,
   "metadata": {
    "collapsed": true
   },
   "outputs": [],
   "source": [
    "gameurl = \"http://www.indiedb.com/games/heist-night\"\n",
    "#gameurl = \"http://www.indiedb.com/games/beyond-sol\""
   ]
  },
  {
   "cell_type": "code",
   "execution_count": 55,
   "metadata": {
    "collapsed": false
   },
   "outputs": [
    {
     "name": "stdout",
     "output_type": "stream",
     "text": [
      "[u'Windows', u'Mac', u'Linux']\n",
      "{'Windows': True, 'Mac': True, 'Linux': True}\n",
      "[True, True, True]\n"
     ]
    }
   ],
   "source": [
    "platform, developer, engine, release_date, genre, theme, players, score_final, rating = getIndieGameInfo(gameurl)"
   ]
  },
  {
   "cell_type": "code",
   "execution_count": 37,
   "metadata": {
    "collapsed": false
   },
   "outputs": [
    {
     "data": {
      "text/plain": [
       "u'Windows, Mac, Linux'"
      ]
     },
     "execution_count": 37,
     "metadata": {},
     "output_type": "execute_result"
    }
   ],
   "source": [
    "platform"
   ]
  },
  {
   "cell_type": "code",
   "execution_count": 51,
   "metadata": {
    "collapsed": false
   },
   "outputs": [],
   "source": [
    "osx = platform.split(\",\")\n",
    "os2 = [x.strip() for x in osx]"
   ]
  },
  {
   "cell_type": "code",
   "execution_count": 52,
   "metadata": {
    "collapsed": false
   },
   "outputs": [
    {
     "data": {
      "text/plain": [
       "[u'Windows', u'Mac', u'Linux']"
      ]
     },
     "execution_count": 52,
     "metadata": {},
     "output_type": "execute_result"
    }
   ],
   "source": [
    "os2"
   ]
  },
  {
   "cell_type": "code",
   "execution_count": null,
   "metadata": {
    "collapsed": true
   },
   "outputs": [],
   "source": []
  }
 ],
 "metadata": {
  "kernelspec": {
   "display_name": "Python 2",
   "language": "python",
   "name": "python2"
  },
  "language_info": {
   "codemirror_mode": {
    "name": "ipython",
    "version": 2
   },
   "file_extension": ".py",
   "mimetype": "text/x-python",
   "name": "python",
   "nbconvert_exporter": "python",
   "pygments_lexer": "ipython2",
   "version": "2.7.10"
  }
 },
 "nbformat": 4,
 "nbformat_minor": 0
}
