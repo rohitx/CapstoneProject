{
 "cells": [
  {
   "cell_type": "code",
   "execution_count": 69,
   "metadata": {
    "collapsed": true
   },
   "outputs": [],
   "source": [
    "from bs4 import BeautifulSoup\n",
    "import urllib2\n",
    "import pandas as pd"
   ]
  },
  {
   "cell_type": "code",
   "execution_count": 55,
   "metadata": {
    "collapsed": true
   },
   "outputs": [],
   "source": [
    "r = urllib2.urlopen(\"http://www.indiedb.com/games/page/3?filter=t&kw=&released=1&style=&theme=&indie=2&type=\").read()\n",
    "soup = BeautifulSoup(r)"
   ]
  },
  {
   "cell_type": "code",
   "execution_count": 56,
   "metadata": {
    "collapsed": false
   },
   "outputs": [],
   "source": [
    "mydivs = soup.findAll(\"div\", { \"class\" : \"row rowcontent clear\" })"
   ]
  },
  {
   "cell_type": "code",
   "execution_count": 59,
   "metadata": {
    "collapsed": false
   },
   "outputs": [
    {
     "name": "stdout",
     "output_type": "stream",
     "text": [
      "clash-of-clans-builder, /games/clash-of-clans-builder\n",
      "build-it-up, /games/build-it-up\n",
      "iconika, /games/iconika\n",
      "empyrion-galactic-survival, /games/empyrion-galactic-survival\n",
      "judgement, /games/judgement\n",
      "chronicon, /games/chronicon\n",
      "fright-fight, /games/fright-fight\n",
      "kenshi, /games/kenshi\n",
      "ball-quest, /games/ball-quest\n",
      "ifscl, /games/ifscl\n",
      "three-nights-at-illuminati-2, /games/three-nights-at-illuminati-2\n",
      "three-nights-at-illuminati, /games/three-nights-at-illuminati\n",
      "the-thing-2, /games/the-thing-2\n",
      "genocide-dolphins, /games/genocide-dolphins\n",
      "shop-keep, /games/shop-keep\n",
      "torpg, /games/torpg\n",
      "moonbase-332, /games/moonbase-332\n",
      "homebrew, /games/homebrew\n",
      "brutalnature, /games/brutalnature\n",
      "ardentryst, /games/ardentryst\n",
      "chromium-bsu, /games/chromium-bsu\n",
      "critical-mass-aka-critter, /games/critical-mass-aka-critter\n",
      "domination, /games/domination\n",
      "dungeon-crawl-stone-soup, /games/dungeon-crawl-stone-soup\n",
      "mega-mario, /games/mega-mario\n",
      "open-sonic, /games/open-sonic\n",
      "scrabble3d, /games/scrabble3d\n",
      "torcs, /games/torcs\n",
      "tux-climber, /games/tux-climber\n",
      "pokemon-planet, /games/pokemon-planet\n"
     ]
    }
   ],
   "source": [
    "for div in mydivs:\n",
    "    #print div.findAll('a')\n",
    "    link = div.find('a')['href']\n",
    "    name = (link.split(\"/\"))[-1]\n",
    "    print \"%s, %s\" %(name, link)\n"
   ]
  },
  {
   "cell_type": "code",
   "execution_count": 70,
   "metadata": {
    "collapsed": false
   },
   "outputs": [
    {
     "name": "stdout",
     "output_type": "stream",
     "text": [
      "Waiting for... 8\n",
      "Waiting for... 8\n",
      "Waiting for... 5\n",
      "Waiting for... 2\n",
      "Waiting for... 2\n",
      "Waiting for... 6\n",
      "Waiting for... 10\n",
      "Waiting for... 9\n",
      "Waiting for... 5\n",
      "Waiting for... 10\n",
      "Waiting for... 6\n",
      "Waiting for... 2\n",
      "Waiting for... 4\n",
      "Waiting for... 7\n",
      "Waiting for... 7\n",
      "Waiting for... 2\n",
      "Waiting for... 5\n",
      "Waiting for... 1\n",
      "Waiting for... 10\n",
      "Waiting for... 7\n"
     ]
    }
   ],
   "source": [
    "import time\n",
    "import random\n",
    "for i in range(40,60):\n",
    "    output_file = \"page_\"+str(i)+\".txt\"\n",
    "    with open(output_file, \"w\") as f:\n",
    "        r = urllib2.urlopen(\"http://www.indiedb.com/games/page/\"+str(i)+\"?filter=t&kw=&released=1&style=&theme=&indie=2&type=\").read()\n",
    "        soup = BeautifulSoup(r)\n",
    "        mydivs = soup.findAll(\"div\", { \"class\" : \"row rowcontent clear\" })\n",
    "        for div in mydivs:\n",
    "            link = div.find('a')['href']\n",
    "            name = (link.split(\"/\"))[-1]\n",
    "            f.write(\"{l},{n}\\n\".format(l=link, n=name))\n",
    "    f.close()\n",
    "    wait_time = random.randint(1,10)\n",
    "    print \"Waiting for...\", wait_time\n",
    "    time.sleep(wait_time)"
   ]
  },
  {
   "cell_type": "code",
   "execution_count": 117,
   "metadata": {
    "collapsed": true
   },
   "outputs": [],
   "source": [
    "d = urllib2.urlopen(\"http://www.indiedb.com/games/the-thing-2\").read()\n",
    "soup = BeautifulSoup(d)"
   ]
  },
  {
   "cell_type": "code",
   "execution_count": 118,
   "metadata": {
    "collapsed": true
   },
   "outputs": [],
   "source": [
    "mydivs = soup.findAll(\"div\", { \"class\" : \"row clear\" })"
   ]
  },
  {
   "cell_type": "code",
   "execution_count": 119,
   "metadata": {
    "collapsed": false
   },
   "outputs": [],
   "source": [
    "mylist = []\n",
    "for a in mydivs:\n",
    "    mylist.append(a.text)"
   ]
  },
  {
   "cell_type": "code",
   "execution_count": 120,
   "metadata": {
    "collapsed": false
   },
   "outputs": [
    {
     "name": "stdout",
     "output_type": "stream",
     "text": [
      "[u'', u'Icon', u'', u'']\n",
      "[u'', u'Platforms', u'Windows, Mac, Linux', u'']\n",
      "[u'', u'Engine', u'Custom Built', u'']\n",
      "[u'', u'Official Page', u'KopanitoSoccer.com', u'']\n",
      "[u'', u'Release Date', u'Released Sep 17, 2015', u'']\n",
      "[u'', u'Game Watch', u'Track this game', u'']\n",
      "[u'', u'Share', u'', u'', u'', u'']\n",
      "[u'', u'Genre', u'Soccer', u'']\n",
      "[u'', u'Theme', u'Sport', u'']\n",
      "[u'', u'Players', u'Single, Multiplayer & Co-Op', u'']\n",
      "[u'', u'Project', u'Indie', u'']\n",
      "[u'', u'Rank', u'289 of 29,502', u'']\n",
      "[u'', u'Visits', u'12,721 (24 today)', u'']\n",
      "[u'', u'Last Update', u'1 hour ago', u'']\n",
      "[u'', u'Watchers', u'63 members', u'']\n",
      "[u'', u'Files', u'3', u'']\n",
      "[u'', u'Articles', u'6', u'']\n"
     ]
    }
   ],
   "source": [
    "for l in mylist:\n",
    "    print l.split(\"\\n\")"
   ]
  },
  {
   "cell_type": "code",
   "execution_count": 122,
   "metadata": {
    "collapsed": false
   },
   "outputs": [],
   "source": [
    "divScore = soup.findAll(\"div\", { \"class\" : \"score\" })\n",
    "divRating = soup.findAll(\"div\", { \"class\" : \"rating\" })\n",
    "score = []\n",
    "rating = []\n",
    "for s in divScore:\n",
    "    score.append(s.text)\n",
    "for r in divRating:\n",
    "    rating.append(r.text)"
   ]
  },
  {
   "cell_type": "code",
   "execution_count": 125,
   "metadata": {
    "collapsed": false
   },
   "outputs": [
    {
     "data": {
      "text/plain": [
       "u'Average\\n-'"
      ]
     },
     "execution_count": 125,
     "metadata": {},
     "output_type": "execute_result"
    }
   ],
   "source": [
    "score[0].strip(\"\\n\")"
   ]
  },
  {
   "cell_type": "code",
   "execution_count": 126,
   "metadata": {
    "collapsed": false
   },
   "outputs": [
    {
     "data": {
      "text/plain": [
       "u'0'"
      ]
     },
     "execution_count": 126,
     "metadata": {},
     "output_type": "execute_result"
    }
   ],
   "source": [
    "(rating[0].strip(\"\\n\"))[0]"
   ]
  },
  {
   "cell_type": "code",
   "execution_count": null,
   "metadata": {
    "collapsed": true
   },
   "outputs": [],
   "source": []
  }
 ],
 "metadata": {
  "kernelspec": {
   "display_name": "Python 2",
   "language": "python",
   "name": "python2"
  },
  "language_info": {
   "codemirror_mode": {
    "name": "ipython",
    "version": 2
   },
   "file_extension": ".py",
   "mimetype": "text/x-python",
   "name": "python",
   "nbconvert_exporter": "python",
   "pygments_lexer": "ipython2",
   "version": "2.7.10"
  }
 },
 "nbformat": 4,
 "nbformat_minor": 0
}
