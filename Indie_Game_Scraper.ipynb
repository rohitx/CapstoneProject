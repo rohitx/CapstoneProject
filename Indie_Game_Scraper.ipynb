{
 "cells": [
  {
   "cell_type": "code",
   "execution_count": 1,
   "metadata": {
    "collapsed": true
   },
   "outputs": [],
   "source": [
    "from bs4 import BeautifulSoup\n",
    "import urllib2\n",
    "import pandas as pd"
   ]
  },
  {
   "cell_type": "code",
   "execution_count": 55,
   "metadata": {
    "collapsed": true
   },
   "outputs": [],
   "source": [
    "r = urllib2.urlopen(\"http://www.indiedb.com/games/page/3?filter=t&kw=&released=1&style=&theme=&indie=2&type=\").read()\n",
    "soup = BeautifulSoup(r)"
   ]
  },
  {
   "cell_type": "code",
   "execution_count": 56,
   "metadata": {
    "collapsed": false
   },
   "outputs": [],
   "source": [
    "mydivs = soup.findAll(\"div\", { \"class\" : \"row rowcontent clear\" })"
   ]
  },
  {
   "cell_type": "code",
   "execution_count": 59,
   "metadata": {
    "collapsed": false
   },
   "outputs": [
    {
     "name": "stdout",
     "output_type": "stream",
     "text": [
      "clash-of-clans-builder, /games/clash-of-clans-builder\n",
      "build-it-up, /games/build-it-up\n",
      "iconika, /games/iconika\n",
      "empyrion-galactic-survival, /games/empyrion-galactic-survival\n",
      "judgement, /games/judgement\n",
      "chronicon, /games/chronicon\n",
      "fright-fight, /games/fright-fight\n",
      "kenshi, /games/kenshi\n",
      "ball-quest, /games/ball-quest\n",
      "ifscl, /games/ifscl\n",
      "three-nights-at-illuminati-2, /games/three-nights-at-illuminati-2\n",
      "three-nights-at-illuminati, /games/three-nights-at-illuminati\n",
      "the-thing-2, /games/the-thing-2\n",
      "genocide-dolphins, /games/genocide-dolphins\n",
      "shop-keep, /games/shop-keep\n",
      "torpg, /games/torpg\n",
      "moonbase-332, /games/moonbase-332\n",
      "homebrew, /games/homebrew\n",
      "brutalnature, /games/brutalnature\n",
      "ardentryst, /games/ardentryst\n",
      "chromium-bsu, /games/chromium-bsu\n",
      "critical-mass-aka-critter, /games/critical-mass-aka-critter\n",
      "domination, /games/domination\n",
      "dungeon-crawl-stone-soup, /games/dungeon-crawl-stone-soup\n",
      "mega-mario, /games/mega-mario\n",
      "open-sonic, /games/open-sonic\n",
      "scrabble3d, /games/scrabble3d\n",
      "torcs, /games/torcs\n",
      "tux-climber, /games/tux-climber\n",
      "pokemon-planet, /games/pokemon-planet\n"
     ]
    }
   ],
   "source": [
    "for div in mydivs:\n",
    "    #print div.findAll('a')\n",
    "    link = div.find('a')['href']\n",
    "    name = (link.split(\"/\"))[-1]\n",
    "    print \"%s, %s\" %(name, link)\n"
   ]
  },
  {
   "cell_type": "code",
   "execution_count": null,
   "metadata": {
    "collapsed": true
   },
   "outputs": [],
   "source": []
  }
 ],
 "metadata": {
  "kernelspec": {
   "display_name": "Python 2",
   "language": "python",
   "name": "python2"
  },
  "language_info": {
   "codemirror_mode": {
    "name": "ipython",
    "version": 2
   },
   "file_extension": ".py",
   "mimetype": "text/x-python",
   "name": "python",
   "nbconvert_exporter": "python",
   "pygments_lexer": "ipython2",
   "version": "2.7.10"
  }
 },
 "nbformat": 4,
 "nbformat_minor": 0
}
