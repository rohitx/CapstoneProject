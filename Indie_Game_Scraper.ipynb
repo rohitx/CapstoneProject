{
 "cells": [
  {
   "cell_type": "code",
   "execution_count": 1,
   "metadata": {
    "collapsed": true
   },
   "outputs": [],
   "source": [
    "from bs4 import BeautifulSoup\n",
    "import urllib2\n",
    "import pandas as pd"
   ]
  },
  {
   "cell_type": "code",
   "execution_count": 55,
   "metadata": {
    "collapsed": true
   },
   "outputs": [],
   "source": [
    "r = urllib2.urlopen(\"http://www.indiedb.com/games/page/3?filter=t&kw=&released=1&style=&theme=&indie=2&type=\").read()\n",
    "soup = BeautifulSoup(r)"
   ]
  },
  {
   "cell_type": "code",
   "execution_count": 56,
   "metadata": {
    "collapsed": false
   },
   "outputs": [],
   "source": [
    "mydivs = soup.findAll(\"div\", { \"class\" : \"row rowcontent clear\" })"
   ]
  },
  {
   "cell_type": "code",
   "execution_count": 59,
   "metadata": {
    "collapsed": false
   },
   "outputs": [
    {
     "name": "stdout",
     "output_type": "stream",
     "text": [
      "clash-of-clans-builder, /games/clash-of-clans-builder\n",
      "build-it-up, /games/build-it-up\n",
      "iconika, /games/iconika\n",
      "empyrion-galactic-survival, /games/empyrion-galactic-survival\n",
      "judgement, /games/judgement\n",
      "chronicon, /games/chronicon\n",
      "fright-fight, /games/fright-fight\n",
      "kenshi, /games/kenshi\n",
      "ball-quest, /games/ball-quest\n",
      "ifscl, /games/ifscl\n",
      "three-nights-at-illuminati-2, /games/three-nights-at-illuminati-2\n",
      "three-nights-at-illuminati, /games/three-nights-at-illuminati\n",
      "the-thing-2, /games/the-thing-2\n",
      "genocide-dolphins, /games/genocide-dolphins\n",
      "shop-keep, /games/shop-keep\n",
      "torpg, /games/torpg\n",
      "moonbase-332, /games/moonbase-332\n",
      "homebrew, /games/homebrew\n",
      "brutalnature, /games/brutalnature\n",
      "ardentryst, /games/ardentryst\n",
      "chromium-bsu, /games/chromium-bsu\n",
      "critical-mass-aka-critter, /games/critical-mass-aka-critter\n",
      "domination, /games/domination\n",
      "dungeon-crawl-stone-soup, /games/dungeon-crawl-stone-soup\n",
      "mega-mario, /games/mega-mario\n",
      "open-sonic, /games/open-sonic\n",
      "scrabble3d, /games/scrabble3d\n",
      "torcs, /games/torcs\n",
      "tux-climber, /games/tux-climber\n",
      "pokemon-planet, /games/pokemon-planet\n"
     ]
    }
   ],
   "source": [
    "for div in mydivs:\n",
    "    #print div.findAll('a')\n",
    "    link = div.find('a')['href']\n",
    "    name = (link.split(\"/\"))[-1]\n",
    "    print \"%s, %s\" %(name, link)\n"
   ]
  },
  {
   "cell_type": "code",
   "execution_count": 70,
   "metadata": {
    "collapsed": false
   },
   "outputs": [
    {
     "name": "stdout",
     "output_type": "stream",
     "text": [
      "Waiting for... 8\n",
      "Waiting for... 8\n",
      "Waiting for... 5\n",
      "Waiting for... 2\n",
      "Waiting for... 2\n",
      "Waiting for... 6\n",
      "Waiting for... 10\n",
      "Waiting for... 9\n",
      "Waiting for... 5\n",
      "Waiting for... 10\n",
      "Waiting for... 6\n",
      "Waiting for... 2\n",
      "Waiting for... 4\n",
      "Waiting for... 7\n",
      "Waiting for... 7\n",
      "Waiting for... 2\n",
      "Waiting for... 5\n",
      "Waiting for... 1\n",
      "Waiting for... 10\n",
      "Waiting for... 7\n"
     ]
    }
   ],
   "source": [
    "import time\n",
    "import random\n",
    "for i in range(40,60):\n",
    "    output_file = \"page_\"+str(i)+\".txt\"\n",
    "    with open(output_file, \"w\") as f:\n",
    "        r = urllib2.urlopen(\"http://www.indiedb.com/games/page/\"+str(i)+\"?filter=t&kw=&released=1&style=&theme=&indie=2&type=\").read()\n",
    "        soup = BeautifulSoup(r)\n",
    "        mydivs = soup.findAll(\"div\", { \"class\" : \"row rowcontent clear\" })\n",
    "        for div in mydivs:\n",
    "            link = div.find('a')['href']\n",
    "            name = (link.split(\"/\"))[-1]\n",
    "            f.write(\"{l},{n}\\n\".format(l=link, n=name))\n",
    "    f.close()\n",
    "    wait_time = random.randint(1,10)\n",
    "    print \"Waiting for...\", wait_time\n",
    "    time.sleep(wait_time)"
   ]
  },
  {
   "cell_type": "code",
   "execution_count": 2,
   "metadata": {
    "collapsed": true
   },
   "outputs": [],
   "source": [
    "d = urllib2.urlopen(\"http://www.indiedb.com/games/kopanito-all-stars-soccer\").read()\n",
    "soup = BeautifulSoup(d)"
   ]
  },
  {
   "cell_type": "code",
   "execution_count": 3,
   "metadata": {
    "collapsed": true
   },
   "outputs": [],
   "source": [
    "mydivs = soup.findAll(\"div\", { \"class\" : \"row clear\" })"
   ]
  },
  {
   "cell_type": "code",
   "execution_count": 4,
   "metadata": {
    "collapsed": false
   },
   "outputs": [],
   "source": [
    "mylist = []\n",
    "for a in mydivs:\n",
    "    mylist.append(a.text)"
   ]
  },
  {
   "cell_type": "markdown",
   "metadata": {},
   "source": [
    "## Profile, Style"
   ]
  },
  {
   "cell_type": "code",
   "execution_count": 5,
   "metadata": {
    "collapsed": false
   },
   "outputs": [
    {
     "name": "stdout",
     "output_type": "stream",
     "text": [
      "[u'', u'Icon', u'', u'']\n",
      "[u'', u'Platforms', u'Windows, Mac, Linux', u'']\n",
      "[u'', u'Engine', u'Custom Built', u'']\n",
      "[u'', u'Official Page', u'KopanitoSoccer.com', u'']\n",
      "[u'', u'Release Date', u'Released Sep 17, 2015', u'']\n",
      "[u'', u'Game Watch', u'Track this game', u'']\n",
      "[u'', u'Share', u'', u'', u'', u'']\n",
      "[u'', u'Genre', u'Soccer', u'']\n",
      "[u'', u'Theme', u'Sport', u'']\n",
      "[u'', u'Players', u'Single, Multiplayer & Co-Op', u'']\n",
      "[u'', u'Project', u'Indie', u'']\n",
      "[u'', u'Rank', u'224 of 29,502', u'']\n",
      "[u'', u'Visits', u'12,728 (31 today)', u'']\n",
      "[u'', u'Last Update', u'2 hours ago', u'']\n",
      "[u'', u'Watchers', u'63 members', u'']\n",
      "[u'', u'Files', u'3', u'']\n",
      "[u'', u'Articles', u'6', u'']\n"
     ]
    }
   ],
   "source": [
    "for l in mylist:\n",
    "    print l.split(\"\\n\")"
   ]
  },
  {
   "cell_type": "markdown",
   "metadata": {},
   "source": [
    "## Community Rating, Score"
   ]
  },
  {
   "cell_type": "code",
   "execution_count": 6,
   "metadata": {
    "collapsed": false
   },
   "outputs": [],
   "source": [
    "divScore = soup.findAll(\"div\", { \"class\" : \"score\" })\n",
    "divRating = soup.findAll(\"div\", { \"class\" : \"rating\" })\n",
    "score = []\n",
    "rating = []\n",
    "for s in divScore:\n",
    "    score.append(s.text)\n",
    "for r in divRating:\n",
    "    rating.append(r.text)"
   ]
  },
  {
   "cell_type": "code",
   "execution_count": 9,
   "metadata": {
    "collapsed": false
   },
   "outputs": [
    {
     "data": {
      "text/plain": [
       "u'Average-'"
      ]
     },
     "execution_count": 9,
     "metadata": {},
     "output_type": "execute_result"
    }
   ],
   "source": [
    "score[0].replace('\\n', '')"
   ]
  },
  {
   "cell_type": "code",
   "execution_count": 186,
   "metadata": {
    "collapsed": false
   },
   "outputs": [
    {
     "data": {
      "text/plain": [
       "u'0'"
      ]
     },
     "execution_count": 186,
     "metadata": {},
     "output_type": "execute_result"
    }
   ],
   "source": [
    "(rating[0].strip(\"\\n\"))[0]"
   ]
  },
  {
   "cell_type": "markdown",
   "metadata": {},
   "source": [
    "## Summary"
   ]
  },
  {
   "cell_type": "code",
   "execution_count": 187,
   "metadata": {
    "collapsed": false
   },
   "outputs": [
    {
     "data": {
      "text/plain": [
       "[<div class=\"body bodysimple clear\">\n",
       " <div class=\"tooltip\"></div>\n",
       " <div class=\"table tablesummarysupport\">\n",
       " <div class=\"row rowcontent clear\">\n",
       " <div class=\"contentfull\">\n",
       " <h4><a href=\"/games/kopanito-all-stars-soccer/news/few-fixes-in-demo-version\">Few fixes in the demo version</a></h4>\n",
       " <span class=\"date\">2 weeks ago</span>\n",
       " <span class=\"subheading\">\n",
       " \t\t\t\t\t\t\t\t\tNews\t\t\t\t\t\t\t\t\t<a class=\"commenticon\" href=\"/games/kopanito-all-stars-soccer/news/few-fixes-in-demo-version\">0 comments</a> <a class=\"reporticon articles194134report\" href=\"/messages/ajax/action/?action=report&amp;sitearea=articles&amp;siteareaid=194134\" rel=\"nofollow\" title=\"Report\">Report</a> </span>\n",
       " </div>\n",
       " </div>\n",
       " <div class=\"row rowcontent clear\" style=\"padding-left: 0; padding-right: 0;\">\n",
       " <p>Thanks you all for your support, Kopanito has passed Steam Greenlight! We're now configuring the game's store page and soon you will be able to <strong>buy Kopanito on Steam as Early Access game</strong>.</p>\n",
       " <p>In the mean time we've made some minor fixes in the demo version. The game wouldn't launch on some specific graphic cards, but now it should. If the game didn't worked for you at all please try the new build. Or if you know someone who couldn't launch the game, please let them know, that an updated version is available.</p>\n",
       " <div class=\"center\" style=\"text-align: center;\">\n",
       " <h3><strong>Windows:</strong></h3>\n",
       " <p><a href=\"http://www.indiedb.com/games/kopanito-all-stars-soccer/downloads/kopanito-demo-windows\" target=\"_blank\" title=\"Download Kopanito Demo (Windows) v0.1.1 - Indie DB\"><img alt=\"Kopanito Demo (Windows) v0.1.1\" src=\"http://button.indiedb.com/download/medium/88894.png\"/></a></p>\n",
       " <h3><strong>OS X:</strong></h3>\n",
       " <p><a href=\"http://www.indiedb.com/games/kopanito-all-stars-soccer/downloads/kopanito-demo-os-x\" target=\"_blank\" title=\"Download Kopanito Demo (OS X) v0.1.1 - Indie DB\"><img alt=\"Kopanito Demo (OS X) v0.1.1\" src=\"http://button.indiedb.com/download/medium/89415.png\"/></a></p>\n",
       " <h3>Linux 64bit:</h3>\n",
       " <p><a href=\"http://www.indiedb.com/games/kopanito-all-stars-soccer/downloads/kopanito-demo-linux-64bit\" target=\"_blank\" title=\"Download Kopanito Demo (Linux 64bit) v0.1.1 - Indie DB\"><img alt=\"Kopanito Demo (Linux 64bit) v0.1.1\" src=\"http://button.indiedb.com/download/medium/89480.png\"/></a></p>\n",
       " </div>\n",
       " <p><br/></p>\n",
       " <hr/>\n",
       " <p>Kopanito on: <a href=\"http://kopanitosoccer.com\" target=\"_blank\">KopanitoSoccer.com</a> | <a href=\"http://store.steampowered.com/app/399820/\" target=\"_blank\">Steam</a> | <a href=\"https://www.youtube.com/channel/UCce-eRofjySu20VbEgMgf3g\" target=\"_blank\">YouTube</a> | <a href=\"https://www.facebook.com/kopanito\" target=\"_blank\">Facebook</a> | <a href=\"https://twitter.com/KopanitoSoccer\" target=\"_blank\">Twitter</a></p>\n",
       " </div>\n",
       " <div class=\"row rowcontent clear\">\n",
       " <a class=\"image\" href=\"/games/kopanito-all-stars-soccer/news/platformer-like-football-game-needs-your-votes-on-steam-greenlight\" title=\"Platformer-like football game on Steam Greenlight + playable demo available\"><img alt=\"Platformer-like football game on Steam Greenlight + playable demo available\" src=\"http://media.indiedb.com/cache/images/articles/1/193/192612/crop_120x90/kopanito_greenlight_indiedb.jpg\"/></a>\n",
       " <div class=\"content\">\n",
       " <h4><a href=\"/games/kopanito-all-stars-soccer/news/platformer-like-football-game-needs-your-votes-on-steam-greenlight\">Platformer-like football game on Steam Greenlight + playable demo available</a></h4>\n",
       " <span class=\"date\">1 month ago</span>\n",
       " <span class=\"subheading\">\n",
       " \t\t\t\t\t\t\t\t\tNews\t\t\t\t\t\t\t\t\t<a class=\"commenticon\" href=\"/games/kopanito-all-stars-soccer/news/platformer-like-football-game-needs-your-votes-on-steam-greenlight\">4 comments</a> <a class=\"reporticon articles192612report\" href=\"/messages/ajax/action/?action=report&amp;sitearea=articles&amp;siteareaid=192612\" rel=\"nofollow\" title=\"Report\">Report</a> </span>\n",
       " <p>We are bored with excessive realism so for more fun and dynamism we added some super-moves which can turn the game upside down. We've also stripped some...</p>\n",
       " </div>\n",
       " </div>\n",
       " <div class=\"row rowcontent clear\">\n",
       " <a class=\"image\" href=\"/games/kopanito-all-stars-soccer/news/2d-football-game-in-2015-see-gameplay-in-hd60-fps\" title=\"2D football game in 2015? See gameplay in HD@60 FPS\"><img alt=\"2D football game in 2015? See gameplay in HD@60 FPS\" src=\"http://media.indiedb.com/cache/images/articles/1/189/188116/crop_120x90/thumb.png\"/></a>\n",
       " <div class=\"content\">\n",
       " <h4><a href=\"/games/kopanito-all-stars-soccer/news/2d-football-game-in-2015-see-gameplay-in-hd60-fps\">2D football game in 2015? See gameplay in HD@60 FPS</a></h4>\n",
       " <span class=\"date\">3 months ago</span>\n",
       " <span class=\"subheading\">\n",
       " \t\t\t\t\t\t\t\t\tNews\t\t\t\t\t\t\t\t\t<a class=\"commenticon\" href=\"/games/kopanito-all-stars-soccer/news/2d-football-game-in-2015-see-gameplay-in-hd60-fps\">4 comments</a> <a class=\"reporticon articles188116report\" href=\"/messages/ajax/action/?action=report&amp;sitearea=articles&amp;siteareaid=188116\" rel=\"nofollow\" title=\"Report\">Report</a> </span>\n",
       " <p>Latest gameplay video presenting how the game will look and play and some other stuff.</p>\n",
       " </div>\n",
       " </div>\n",
       " <div class=\"row rowcontent clear\">\n",
       " <a class=\"image\" href=\"/games/kopanito-all-stars-soccer/news/slow-motion-ball-swerve-awesome-goals\" title=\"Slow-motion + ball swerve = awesome goals\"><img alt=\"Slow-motion + ball swerve = awesome goals\" src=\"http://media.indiedb.com/cache/images/articles/1/185/184482/crop_120x90/pilka.png\"/></a>\n",
       " <div class=\"content\">\n",
       " <h4><a href=\"/games/kopanito-all-stars-soccer/news/slow-motion-ball-swerve-awesome-goals\">Slow-motion + ball swerve = awesome goals</a></h4>\n",
       " <span class=\"date\">4 months ago</span>\n",
       " <span class=\"subheading\">\n",
       " \t\t\t\t\t\t\t\t\tNews\t\t\t\t\t\t\t\t\t<a class=\"commenticon\" href=\"/games/kopanito-all-stars-soccer/news/slow-motion-ball-swerve-awesome-goals\">0 comments</a> <a class=\"reporticon articles184482report\" href=\"/messages/ajax/action/?action=report&amp;sitearea=articles&amp;siteareaid=184482\" rel=\"nofollow\" title=\"Report\">Report</a> </span>\n",
       " <p>How shooting and passes work in Kopanito and about basic modding support.</p>\n",
       " </div>\n",
       " </div>\n",
       " <div class=\"row rowcontent clear\">\n",
       " <a class=\"image\" href=\"/games/kopanito-all-stars-soccer/news/how-should-sliding-tackle-work-in-an-arcade-soccer\" title=\"How should a sliding tackle work in an arcade soccer?\"><img alt=\"How should a sliding tackle work in an arcade soccer?\" src=\"http://media.indiedb.com/cache/images/articles/1/183/182174/crop_120x90/indie_db_news.png\"/></a>\n",
       " <div class=\"content\">\n",
       " <h4><a href=\"/games/kopanito-all-stars-soccer/news/how-should-sliding-tackle-work-in-an-arcade-soccer\">How should a sliding tackle work in an arcade soccer?</a></h4>\n",
       " <span class=\"date\">5 months ago</span>\n",
       " <span class=\"subheading\">\n",
       " \t\t\t\t\t\t\t\t\tNews\t\t\t\t\t\t\t\t\t<a class=\"commenticon\" href=\"/games/kopanito-all-stars-soccer/news/how-should-sliding-tackle-work-in-an-arcade-soccer\">0 comments</a> <a class=\"reporticon articles182174report\" href=\"/messages/ajax/action/?action=report&amp;sitearea=articles&amp;siteareaid=182174\" rel=\"nofollow\" title=\"Report\">Report</a> </span>\n",
       " <p>About sliding tackles, local multiplayer and other stuff that will be featured in Kopanito - an upcoming soccer game inspired by Sensible Soccer, Kick...</p>\n",
       " </div>\n",
       " </div>\n",
       " <div class=\"row\" style=\"text-align: right;\">\n",
       " <h4>\n",
       " <a href=\"/games/kopanito-all-stars-soccer/articles/add\">Post article</a> | \t\t\t\t\t\t\t\t<a href=\"/games/kopanito-all-stars-soccer/articles\">More articles &gt;&gt;</a>\n",
       " </h4>\n",
       " </div>\n",
       " </div> <p class=\"viewbrowse\" style=\"display: none; margin-top: 1em;\">\n",
       " \t\t\t\t\t\t\t\t\t\tNo articles were found matching the criteria specified. We suggest you try the <a href=\"/games/kopanito-all-stars-soccer/articles\">article list</a> with no filter applied, to browse all available. <a href=\"/games/kopanito-all-stars-soccer/articles/add\">Post article</a> and help us achieve our mission of showcasing the best content from all developers.\t\t\t\t\t\t\t\t\t</p>\n",
       " </div>, <div class=\"body bodysimple clear\">\n",
       " <div class=\"tooltip\"></div>\n",
       " <div class=\"table tablesummarysupport\">\n",
       " <div class=\"row rowcontent clear\">\n",
       " <a class=\"image\" href=\"/games/kopanito-all-stars-soccer/downloads/kopanito-demo-linux-64bit\" title=\"Kopanito Demo (Linux 64bit) v0.1.2\"><img alt=\"Kopanito Demo (Linux 64bit) v0.1.2\" src=\"http://media.indiedb.com/cache/images/downloads/1/90/89480/crop_120x90/kopanito_greenlight.jpg\"/></a>\n",
       " <div class=\"content\">\n",
       " <h4><a href=\"/games/kopanito-all-stars-soccer/downloads/kopanito-demo-linux-64bit\">Kopanito Demo (Linux 64bit) v0.1.2</a></h4>\n",
       " <span class=\"date\">3 weeks ago</span>\n",
       " <span class=\"subheading\">\n",
       " \t\t\t\t\t\t\t\t\tDemo\t\t\t\t\t\t\t\t\t<a class=\"commenticon\" href=\"/games/kopanito-all-stars-soccer/downloads/kopanito-demo-linux-64bit\">0 comments</a> </span>\n",
       " <p>Playable demo. You can play a friendly match and Oceania Cup. Includes: 3 stadiums and 27 teams (no varied skills yet, only easy AI).</p>\n",
       " </div>\n",
       " </div>\n",
       " <div class=\"row rowcontent clear\">\n",
       " <a class=\"image\" href=\"/games/kopanito-all-stars-soccer/downloads/kopanito-demo-os-x\" title=\"Kopanito Demo (OS X) v0.1.2\"><img alt=\"Kopanito Demo (OS X) v0.1.2\" src=\"http://media.indiedb.com/cache/images/downloads/1/90/89415/crop_120x90/kopanito_greenlight.jpg\"/></a>\n",
       " <div class=\"content\">\n",
       " <h4><a href=\"/games/kopanito-all-stars-soccer/downloads/kopanito-demo-os-x\">Kopanito Demo (OS X) v0.1.2</a></h4>\n",
       " <span class=\"date\">3 weeks ago</span>\n",
       " <span class=\"subheading\">\n",
       " \t\t\t\t\t\t\t\t\tDemo\t\t\t\t\t\t\t\t\t<a class=\"commenticon\" href=\"/games/kopanito-all-stars-soccer/downloads/kopanito-demo-os-x\">0 comments</a> </span>\n",
       " <p>Playable demo. You can play a friendly match and Oceania Cup. Includes: 3 stadiums and 27 teams (no varied skills yet, only easy AI).</p>\n",
       " </div>\n",
       " </div>\n",
       " <div class=\"row rowcontent clear\">\n",
       " <a class=\"image\" href=\"/games/kopanito-all-stars-soccer/downloads/kopanito-demo-windows\" title=\"Kopanito Demo (Windows) v0.1.2\"><img alt=\"Kopanito Demo (Windows) v0.1.2\" src=\"http://media.indiedb.com/cache/images/downloads/1/89/88894/crop_120x90/kopanito_greenlight.jpg\"/></a>\n",
       " <div class=\"content\">\n",
       " <h4><a href=\"/games/kopanito-all-stars-soccer/downloads/kopanito-demo-windows\">Kopanito Demo (Windows) v0.1.2</a></h4>\n",
       " <span class=\"date\">1 month ago</span>\n",
       " <span class=\"subheading\">\n",
       " \t\t\t\t\t\t\t\t\tDemo\t\t\t\t\t\t\t\t\t<a class=\"commenticon\" href=\"/games/kopanito-all-stars-soccer/downloads/kopanito-demo-windows\">1 comment</a> </span>\n",
       " <p>Playable demo. You can play a friendly match and Oceania Cup. Includes: 3 stadiums and 27 teams (no varied skills yet, only easy AI).</p>\n",
       " </div>\n",
       " </div>\n",
       " </div> <p class=\"viewbrowse\" style=\"display: none; margin-top: 1em;\">\n",
       " \t\t\t\t\t\t\t\t\t\tNo downloads were found matching the criteria specified. We suggest you try the <a href=\"/games/kopanito-all-stars-soccer/downloads\">download list</a> with no filter applied, to browse all available.<a href=\"/members/register\">Join now</a> to share your own content, and encourage our community to get involved and engaged.\t\t\t\t\t\t\t\t\t</p>\n",
       " </div>, <div class=\"body bodysimple clear\">\n",
       " <div class=\"tooltip\"></div>\n",
       " <div class=\"table tableform\">\n",
       " <form action=\"http://www.indiedb.com/games/kopanito-all-stars-soccer/#commentreply\" id=\"commentform\" method=\"post\" name=\"commentform\"><input name=\"replyid\" type=\"hidden\" value=\"0\"/><input name=\"page\" type=\"hidden\" value=\"1\"/><input name=\"formhash\" type=\"hidden\" value=\"a4dc65f6a82c67fd9dbf7120d616f488\"/><input name=\"commentpost\" type=\"hidden\" value=\"t\"/>\n",
       " <div class=\"row\" style=\"display: none;\">\n",
       " <label for=\"commentemail\">Email</label>\n",
       " <span class=\"ceebdbcbddeformouter\"><span><span><span><span><span><span class=\"ceebdbcbddeforminner\"><input autocomplete=\"off\" class=\"text\" id=\"commentemail\" maxlength=\"100\" name=\"IyMzZmZjODdkMTBmMjk1YTJlNzNjZjkyNDExMjFiNjViYzMyMDUxOTA2NDNib3RjYXRjaGVy\" size=\"50\" type=\"text\" value=\"\"/></span></span></span></span></span></span></span><span class=\"ceebdbcbddeformouter\"><span><span><span><span class=\"ceebdbcbddeforminner\"><input autocomplete=\"off\" class=\"text\" maxlength=\"100\" name=\"IyMzZmZjODdkMTBmMjk1YTJlNzNjZjkyNDExMjFiNjViYzY0Njg5OTY0ODNib3RjYXRjaGVy\" size=\"50\" type=\"text\"/></span></span></span></span></span><style type=\"text/css\"> span.ceebdbcbddeformouter span span span span.ceebdbcbddeforminner { display: none; } span.ceebdbcbddeformouter span span span span span span.ceebdbcbddeforminner { display: inline; }</style>\n",
       " </div>\n",
       " <div></div>\n",
       " <div class=\"row\">\n",
       " <div style=\"float: right; margin: 0 10px 10px; width: 250px; text-align: center; margin-bottom: 1.5em;\">\n",
       " <a class=\"steamicon\" href=\"https://secure.indiedb.com/members/loginext/steam\" style=\"float: right; margin-left: 5px; margin-bottom: 4px;\" title=\"Click to connect via Steam\"></a>\n",
       " <a class=\"googleicon\" href=\"https://secure.indiedb.com/members/loginext/google\" style=\"float: right; margin-left: 5px; margin-bottom: 4px;\" title=\"Click to connect via Google\"></a>\n",
       " <a class=\"twittericon\" href=\"https://secure.indiedb.com/members/loginext/twitter\" style=\"float: right; margin-left: 5px; margin-bottom: 4px;\" title=\"Click to connect via Twitter\"></a>\n",
       " <a class=\"facebookicon\" href=\"https://secure.indiedb.com/members/loginext/facebook\" style=\"float: right; margin-left: 5px; margin-bottom: 4px;\" title=\"Click to connect via Facebook\"></a>\n",
       " <em>click to sign in</em>\n",
       " </div>\n",
       " <p style=\"margin-bottom: 1.5em;\">You are not logged in, your comment will be anonymous unless you <a href=\"/members/register\">join the community</a> today (totally free - or sign in with your social account on the right) which we encourage all contributors to do.</p>\n",
       " <p class=\"helper\" id=\"commentsummarycounter\">2000 characters limit; HTML formatting and smileys are not supported - text only</p>\n",
       " <textarea cols=\"80\" id=\"commentsummary\" name=\"summary\" rows=\"8\"></textarea>\n",
       " </div>\n",
       " <div class=\"row buttons\">\n",
       " <input class=\"previewbtn\" id=\"commentpreview\" name=\"preview\" type=\"submit\" value=\"Preview\"/> <input id=\"commentsubmit\" name=\"comment\" type=\"submit\" value=\"Post Comment\"/>\n",
       " </div>\n",
       " <div class=\"row rowpreview\" style=\"display: none;\">\n",
       " <h4>Preview:</h4>\n",
       " <div id=\"commentpreviewarea\"></div>\n",
       " </div>\n",
       " </form>\n",
       " </div>\n",
       " </div>, <div class=\"body bodysimple clear\">\n",
       " <div class=\"tooltip\"></div>\n",
       " <div class=\"table tableform\">\n",
       " <div class=\"row\">\n",
       " <p>Promote Kopanito All-Stars Soccer on your homepage or blog by selecting a button and using the embed code provided (<a class=\"moreembed\" href=\"#\">more</a>).</p>\n",
       " <input class=\"text textembed\" maxlength=\"500\" name=\"\" size=\"50\" style=\"width: 275px; margin-top: 5px;\" type=\"text\" value='&lt;a href=\"http://www.indiedb.com/games/kopanito-all-stars-soccer\" title=\"View Kopanito All-Stars Soccer on Indie DB\" target=\"_blank\"&gt;&lt;img src=\"http://button.indiedb.com/popularity/medium/games/36172.png\" alt=\"Kopanito All-Stars Soccer\" /&gt;&lt;/a&gt;'/>\n",
       " </div>\n",
       " <div class=\"row rowembed clear\" style=\"text-align: center;\">\n",
       " <a class=\"popularitybtn\" href=\"http://www.indiedb.com/games/kopanito-all-stars-soccer\" title=\"View Kopanito All-Stars Soccer on Indie DB\"><img alt=\"Kopanito All-Stars Soccer\" src=\"http://button.indiedb.com/popularity/medium/games/36172.png\"/></a>\n",
       " <a class=\"ratingbtn\" href=\"http://www.indiedb.com/games/kopanito-all-stars-soccer\" title=\"View Kopanito All-Stars Soccer on Indie DB\"><img alt=\"Kopanito All-Stars Soccer\" src=\"http://button.indiedb.com/rating/medium/games/36172.png\"/></a>\n",
       " <div style=\"display: none;\">\n",
       " <a class=\"smallbtn\" href=\"http://www.indiedb.com/games/kopanito-all-stars-soccer\" title=\"View Kopanito All-Stars Soccer - Indie DB\"><img alt=\"Kopanito All-Stars Soccer\" src=\"http://media.indiedb.com/images/global/indiedb.png\"/></a>\n",
       " </div>\n",
       " </div>\n",
       " <style type=\"text/css\">.rowembed a { display: block; margin-top: 5px; } .rowembed div a { margin: 0; } .rowembed a.on img { -moz-box-shadow: 0 0 5px #fff; -webkit-box-shadow: 0 0 5px #fff; box-shadow: 0px 0px 5px #fff; }</style>\n",
       " </div>\n",
       " </div>]"
      ]
     },
     "execution_count": 187,
     "metadata": {},
     "output_type": "execute_result"
    }
   ],
   "source": [
    "summarydivs = soup.findAll(\"div\", { \"class\" : \"body bodysimple clear\" })\n",
    "summarydivs"
   ]
  },
  {
   "cell_type": "code",
   "execution_count": 22,
   "metadata": {
    "collapsed": false
   },
   "outputs": [
    {
     "data": {
      "text/plain": [
       "[<p>Thanks you all for your support, Kopanito has passed Steam Greenlight! We're now configuring the game's store page and soon you will be able to <strong>buy Kopanito on Steam as Early Access game</strong>.</p>,\n",
       " <p>In the mean time we've made some minor fixes in the demo version. The game wouldn't launch on some specific graphic cards, but now it should. If the game didn't worked for you at all please try the new build. Or if you know someone who couldn't launch the game, please let them know, that an updated version is available.</p>,\n",
       " <p><a href=\"http://www.indiedb.com/games/kopanito-all-stars-soccer/downloads/kopanito-demo-windows\" target=\"_blank\" title=\"Download Kopanito Demo (Windows) v0.1.1 - Indie DB\"><img alt=\"Kopanito Demo (Windows) v0.1.1\" src=\"http://button.indiedb.com/download/medium/88894.png\"/></a></p>,\n",
       " <p><a href=\"http://www.indiedb.com/games/kopanito-all-stars-soccer/downloads/kopanito-demo-os-x\" target=\"_blank\" title=\"Download Kopanito Demo (OS X) v0.1.1 - Indie DB\"><img alt=\"Kopanito Demo (OS X) v0.1.1\" src=\"http://button.indiedb.com/download/medium/89415.png\"/></a></p>,\n",
       " <p><a href=\"http://www.indiedb.com/games/kopanito-all-stars-soccer/downloads/kopanito-demo-linux-64bit\" target=\"_blank\" title=\"Download Kopanito Demo (Linux 64bit) v0.1.1 - Indie DB\"><img alt=\"Kopanito Demo (Linux 64bit) v0.1.1\" src=\"http://button.indiedb.com/download/medium/89480.png\"/></a></p>,\n",
       " <p><br/></p>,\n",
       " <p>Kopanito on: <a href=\"http://kopanitosoccer.com\" target=\"_blank\">KopanitoSoccer.com</a> | <a href=\"http://store.steampowered.com/app/399820/\" target=\"_blank\">Steam</a> | <a href=\"https://www.youtube.com/channel/UCce-eRofjySu20VbEgMgf3g\" target=\"_blank\">YouTube</a> | <a href=\"https://www.facebook.com/kopanito\" target=\"_blank\">Facebook</a> | <a href=\"https://twitter.com/KopanitoSoccer\" target=\"_blank\">Twitter</a></p>,\n",
       " <p>We are bored with excessive realism so for more fun and dynamism we added some super-moves which can turn the game upside down. We've also stripped some...</p>,\n",
       " <p>Latest gameplay video presenting how the game will look and play and some other stuff.</p>,\n",
       " <p>How shooting and passes work in Kopanito and about basic modding support.</p>,\n",
       " <p>About sliding tackles, local multiplayer and other stuff that will be featured in Kopanito - an upcoming soccer game inspired by Sensible Soccer, Kick...</p>,\n",
       " <p class=\"viewbrowse\" style=\"display: none; margin-top: 1em;\">\n",
       " \t\t\t\t\t\t\t\t\t\tNo articles were found matching the criteria specified. We suggest you try the <a href=\"/games/kopanito-all-stars-soccer/articles\">article list</a> with no filter applied, to browse all available. <a href=\"/games/kopanito-all-stars-soccer/articles/add\">Post article</a> and help us achieve our mission of showcasing the best content from all developers.\t\t\t\t\t\t\t\t\t</p>,\n",
       " <p>Playable demo. You can play a friendly match and Oceania Cup. Includes: 3 stadiums and 27 teams (no varied skills yet, only easy AI).</p>,\n",
       " <p>Playable demo. You can play a friendly match and Oceania Cup. Includes: 3 stadiums and 27 teams (no varied skills yet, only easy AI).</p>,\n",
       " <p>Playable demo. You can play a friendly match and Oceania Cup. Includes: 3 stadiums and 27 teams (no varied skills yet, only easy AI).</p>,\n",
       " <p class=\"viewbrowse\" style=\"display: none; margin-top: 1em;\">\n",
       " \t\t\t\t\t\t\t\t\t\tNo downloads were found matching the criteria specified. We suggest you try the <a href=\"/games/kopanito-all-stars-soccer/downloads\">download list</a> with no filter applied, to browse all available.<a href=\"/members/register\">Join now</a> to share your own content, and encourage our community to get involved and engaged.\t\t\t\t\t\t\t\t\t</p>,\n",
       " <p style=\"margin-bottom: 1.5em;\">You are not logged in, your comment will be anonymous unless you <a href=\"/members/register\">join the community</a> today (totally free - or sign in with your social account on the right) which we encourage all contributors to do.</p>,\n",
       " <p class=\"helper\" id=\"commentsummarycounter\">2000 characters limit; HTML formatting and smileys are not supported - text only</p>,\n",
       " <p>Promote Kopanito All-Stars Soccer on your homepage or blog by selecting a button and using the embed code provided (<a class=\"moreembed\" href=\"#\">more</a>).</p>]"
      ]
     },
     "execution_count": 22,
     "metadata": {},
     "output_type": "execute_result"
    }
   ],
   "source": [
    "soup.select('div.body.bodysimple.clear p')"
   ]
  },
  {
   "cell_type": "code",
   "execution_count": 188,
   "metadata": {
    "collapsed": false
   },
   "outputs": [
    {
     "name": "stdout",
     "output_type": "stream",
     "text": [
      "[u\"\\n\\n\\n\\n\\nFew fixes in the demo version\\n2 weeks ago\\n\\r\\n\\t\\t\\t\\t\\t\\t\\t\\t\\tNews\\t\\t\\t\\t\\t\\t\\t\\t\\t0 comments Report \\n\\n\\n\\nThanks you all for your support, Kopanito has passed Steam Greenlight! We're now configuring the game's store page and soon you will be able to buy Kopanito on Steam as Early Access game.\\nIn the mean time we've made some minor fixes in the demo version. The game wouldn't launch on some specific graphic cards, but now it should. If the game didn't worked for you at all please try the new build. Or if you know someone who couldn't launch the game, please let them know, that an updated version is available.\\n\\nWindows:\\n\\nOS X:\\n\\nLinux 64bit:\\n\\n\\n\\n\\nKopanito on: KopanitoSoccer.com | Steam | YouTube | Facebook | Twitter\\n\\n\\n\\n\\nPlatformer-like football game on Steam Greenlight + playable demo available\\n1 month ago\\n\\r\\n\\t\\t\\t\\t\\t\\t\\t\\t\\tNews\\t\\t\\t\\t\\t\\t\\t\\t\\t4 comments Report \\nWe are bored with excessive realism so for more fun and dynamism we added some super-moves which can turn the game upside down. We've also stripped some...\\n\\n\\n\\n\\n\\n2D football game in 2015? See gameplay in HD@60 FPS\\n3 months ago\\n\\r\\n\\t\\t\\t\\t\\t\\t\\t\\t\\tNews\\t\\t\\t\\t\\t\\t\\t\\t\\t4 comments Report \\nLatest gameplay video presenting how the game will look and play and some other stuff.\\n\\n\\n\\n\\n\\nSlow-motion + ball swerve = awesome goals\\n4 months ago\\n\\r\\n\\t\\t\\t\\t\\t\\t\\t\\t\\tNews\\t\\t\\t\\t\\t\\t\\t\\t\\t0 comments Report \\nHow shooting and passes work in Kopanito and about basic modding support.\\n\\n\\n\\n\\n\\nHow should a sliding tackle work in an arcade soccer?\\n5 months ago\\n\\r\\n\\t\\t\\t\\t\\t\\t\\t\\t\\tNews\\t\\t\\t\\t\\t\\t\\t\\t\\t0 comments Report \\nAbout sliding tackles, local multiplayer and other stuff that will be featured in Kopanito - an upcoming soccer game inspired by Sensible Soccer, Kick...\\n\\n\\n\\n\\nPost article | \\t\\t\\t\\t\\t\\t\\t\\tMore articles >>\\n\\n\\n \\r\\n\\t\\t\\t\\t\\t\\t\\t\\t\\t\\tNo articles were found matching the criteria specified. We suggest you try the article list with no filter applied, to browse all available. Post article and help us achieve our mission of showcasing the best content from all developers.\\t\\t\\t\\t\\t\\t\\t\\t\\t\\n\", u'\\n\\n\\n\\n\\n\\nKopanito Demo (Linux 64bit) v0.1.2\\n3 weeks ago\\n\\r\\n\\t\\t\\t\\t\\t\\t\\t\\t\\tDemo\\t\\t\\t\\t\\t\\t\\t\\t\\t0 comments \\nPlayable demo. You can play a friendly match and Oceania Cup. Includes: 3 stadiums and 27 teams (no varied skills yet, only easy AI).\\n\\n\\n\\n\\n\\nKopanito Demo (OS X) v0.1.2\\n3 weeks ago\\n\\r\\n\\t\\t\\t\\t\\t\\t\\t\\t\\tDemo\\t\\t\\t\\t\\t\\t\\t\\t\\t0 comments \\nPlayable demo. You can play a friendly match and Oceania Cup. Includes: 3 stadiums and 27 teams (no varied skills yet, only easy AI).\\n\\n\\n\\n\\n\\nKopanito Demo (Windows) v0.1.2\\n1 month ago\\n\\r\\n\\t\\t\\t\\t\\t\\t\\t\\t\\tDemo\\t\\t\\t\\t\\t\\t\\t\\t\\t1 comment \\nPlayable demo. You can play a friendly match and Oceania Cup. Includes: 3 stadiums and 27 teams (no varied skills yet, only easy AI).\\n\\n\\n \\r\\n\\t\\t\\t\\t\\t\\t\\t\\t\\t\\tNo downloads were found matching the criteria specified. We suggest you try the download list with no filter applied, to browse all available.Join now to share your own content, and encourage our community to get involved and engaged.\\t\\t\\t\\t\\t\\t\\t\\t\\t\\n', u'\\n\\n\\n\\n\\nEmail\\n span.ceebdbcbddeformouter span span span span.ceebdbcbddeforminner { display: none; } span.ceebdbcbddeformouter span span span span span span.ceebdbcbddeforminner { display: inline; }\\n\\n\\n\\n\\n\\n\\n\\n\\nclick to sign in\\n\\nYou are not logged in, your comment will be anonymous unless you join the community today (totally free - or sign in with your social account on the right) which we encourage all contributors to do.\\n2000 characters limit; HTML formatting and smileys are not supported - text only\\n\\n\\n\\n \\n\\n\\nPreview:\\n\\n\\n\\n\\n', u'\\n\\n\\n\\nPromote Kopanito All-Stars Soccer on your homepage or blog by selecting a button and using the embed code provided (more).\\n\\n\\n\\n\\n\\n\\n\\n\\n\\n.rowembed a { display: block; margin-top: 5px; } .rowembed div a { margin: 0; } .rowembed a.on img { -moz-box-shadow: 0 0 5px #fff; -webkit-box-shadow: 0 0 5px #fff; box-shadow: 0px 0px 5px #fff; }\\n\\n']\n"
     ]
    }
   ],
   "source": [
    "summary = []\n",
    "for p in summarydivs:\n",
    "    summary.append(p.text)\n",
    "print summary"
   ]
  },
  {
   "cell_type": "code",
   "execution_count": null,
   "metadata": {
    "collapsed": true
   },
   "outputs": [],
   "source": []
  }
 ],
 "metadata": {
  "kernelspec": {
   "display_name": "Python 2",
   "language": "python",
   "name": "python2"
  },
  "language_info": {
   "codemirror_mode": {
    "name": "ipython",
    "version": 2
   },
   "file_extension": ".py",
   "mimetype": "text/x-python",
   "name": "python",
   "nbconvert_exporter": "python",
   "pygments_lexer": "ipython2",
   "version": "2.7.10"
  }
 },
 "nbformat": 4,
 "nbformat_minor": 0
}
