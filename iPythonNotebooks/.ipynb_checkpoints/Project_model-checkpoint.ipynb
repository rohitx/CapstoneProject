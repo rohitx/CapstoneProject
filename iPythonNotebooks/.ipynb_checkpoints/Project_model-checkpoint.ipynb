{
 "cells": [
  {
   "cell_type": "markdown",
   "metadata": {},
   "source": [
    "## Topic Modeling Testing on a subset"
   ]
  },
  {
   "cell_type": "code",
   "execution_count": 1,
   "metadata": {
    "collapsed": true
   },
   "outputs": [],
   "source": [
    "from gensim import corpora, models, similarities\n",
    "from pprint import pprint"
   ]
  },
  {
   "cell_type": "code",
   "execution_count": 4,
   "metadata": {
    "collapsed": false
   },
   "outputs": [],
   "source": [
    "documents = [\"A massive ocean world, teeming with life and filled with ancient secrets. Join Naija, a lone underwater dweller in search of her family, as she explores the depths of Aquaria. She'll travel from hidden caves, shrouded in darkness, to beautiful, sunlit oases, all lovingly handcrafted by its two creators. Naija's story, narrated fully with voice overs, will become yours, as you join her on this magnificent adventure. Naija has the gift of the Verse. By singing songs, she can weave this force to change the waters around her. With each song Naija learns comes new abilities. With powerful songs, Naija is able to change form, giving players many options as to how to play the game. And with Aquaria's intuitive mouse-only control system, it's as easy to make Naija swim gracefully through the waters as it is to have her sing, cast spells, and engage in combat with the numerous dangerous creatures that inhabit Aquaria's waters. [Bit Blot]\",\n",
    "             \"The player takes on the role of Ali and begins the game at the meeting-place chosen by the Princess: at the entrance to the cemetery, in the rough part of town? But the Princess fails to turn up. Has she disappeared? If that was the case, it would cause a terrible crisis in the Sultanate of Akabha! [DreamCatcher Interactive]\",\n",
    "             \"ArchLord is the creation of NHN Games, one of the biggest Korean MMO developers and publishers. ArchLord delivers a unique competitive premise to MMO gamers: the opportunity to rise to become the game world’s supreme ruler. Every month, one player takes control of the world and with it the opportunity to wreak havoc on their cowering enemies as the player gains control of supreme global Archlord powers. The game's world, Kantra, is fantastically realised with stunning visuals, created using Renderware, and the game features incredibly atmospheric in-game audio recorded by the world famous London Symphony Orchestra. ArchLord also introduces one of the most advanced and complex PVP combat systems ever in any MMO, which utilises sprawling free battle areas and special guild battlefields that enables players to battle in fearsome guild versus guild battles. With an ever-evolving storyline of conquest and betrayal, ArchLord presents an epic adventure in which players band together as they quest for the ancient relics of the Archons. Each relic bestows incredible power on those who possess it and when relics are combined they deliver ultimate mastery over the fundamental forces of creation for there can only be one Archlord! [Codemasters]\",\n",
    "             \"All players begin their journey on either the Nuia or Harihara continents. From there they explore the world, cooperating or competing with each other. Remnants of the Lost Continent, where the ancestors of the world's races lived together in peace two thousand years ago, still dominate the landscape. If you explore deep into the hearts of these ancient relics, you may discover the secrets of legendary gods and heroes. Or you may reveal more details about the catastrophe that caused the Nuia and Harihara schism. It all depends on your choices.\",\n",
    "             \"Armada 2526 continues the great tradition of space opera games. You guide your race from its first interstellar journeys, until it becomes a mighty galactic empire. Along the way, you'll explore the galaxy, conduct research, diplomacy and trade, found new colonies, maneuver mighty star fleets, and fight epic battles. Although the game is complex, and the possible strategies endless, powerful help and advisor features help you get up to speed quickly. [Matrix Games]\",\n",
    "             \"Worlds collide in Armies of Exigo, a fantasy RTS where the boundaries of the battlefield are broken and war is waged both above and below the ground. This game takes strategy to new depths as elves, beasts, knights, and creatures of the darkness are locked in an epic battle for survival. In the world of Exigo, where peace and prosperity have reigned for years, the empires of man and beast faces their greatest threat yet. A sinister force known as The Fallen has awaken to strike where the inhabitants of this world least expect - from underground. Users will take control of massive armies, wage wars in the forests and river valleys of the surface, then descend into the caverns and catacombs of the underworld to face off against the dark evil. [Electronic Arts]\"\n",
    "            ]"
   ]
  },
  {
   "cell_type": "code",
   "execution_count": 5,
   "metadata": {
    "collapsed": false
   },
   "outputs": [
    {
     "data": {
      "text/plain": [
       "\"A massive ocean world, teeming with life and filled with ancient secrets. Join Naija, a lone underwater dweller in search of her family, as she explores the depths of Aquaria. She'll travel from hidden caves, shrouded in darkness, to beautiful, sunlit oases, all lovingly handcrafted by its two creators. Naija's story, narrated fully with voice overs, will become yours, as you join her on this magnificent adventure. Naija has the gift of the Verse. By singing songs, she can weave this force to change the waters around her. With each song Naija learns comes new abilities. With powerful songs, Naija is able to change form, giving players many options as to how to play the game. And with Aquaria's intuitive mouse-only control system, it's as easy to make Naija swim gracefully through the waters as it is to have her sing, cast spells, and engage in combat with the numerous dangerous creatures that inhabit Aquaria's waters. [Bit Blot]\""
      ]
     },
     "execution_count": 5,
     "metadata": {},
     "output_type": "execute_result"
    }
   ],
   "source": [
    "documents[0]"
   ]
  },
  {
   "cell_type": "code",
   "execution_count": 13,
   "metadata": {
    "collapsed": false
   },
   "outputs": [],
   "source": [
    "# Remove common words and tokenize\n",
    "stoplist = set('for a of the and to in'.split())\n",
    "texts = [[word.replace(\"[\", \"\").replace(\"]\", \"\") for word in document.lower().split() if word not in stoplist]\n",
    "        for document in documents]"
   ]
  },
  {
   "cell_type": "code",
   "execution_count": 16,
   "metadata": {
    "collapsed": false
   },
   "outputs": [
    {
     "data": {
      "text/plain": [
       "['massive',\n",
       " 'ocean',\n",
       " 'world,',\n",
       " 'teeming',\n",
       " 'with',\n",
       " 'life',\n",
       " 'filled',\n",
       " 'with',\n",
       " 'ancient',\n",
       " 'secrets.']"
      ]
     },
     "execution_count": 16,
     "metadata": {},
     "output_type": "execute_result"
    }
   ],
   "source": [
    "texts[0][:10]"
   ]
  },
  {
   "cell_type": "code",
   "execution_count": 17,
   "metadata": {
    "collapsed": true
   },
   "outputs": [],
   "source": [
    "from collections import defaultdict\n",
    "frequency = defaultdict(int)\n",
    "for text in texts:\n",
    "    for token in text:\n",
    "        frequency[token] += 1\n",
    "texts = [[token for token in text if frequency[token] > 1]\n",
    "          for text in texts]"
   ]
  },
  {
   "cell_type": "code",
   "execution_count": 19,
   "metadata": {
    "collapsed": false
   },
   "outputs": [
    {
     "name": "stdout",
     "output_type": "stream",
     "text": [
      "defaultdict(<type 'int'>, {'all': 3, 'ali': 1, 'caused': 1, 'global': 1, 'battle': 3, 'up.': 1, 'catastrophe': 1, 'diplomacy': 1, 'sunlit': 1, 'presents': 1, 'song': 1, 'rise': 1, 'waters.': 1, 'fantastically': 1, 'every': 1, 'locked': 1, 'mouse-only': 1, 'race': 1, 'relics': 2, 'renderware,': 1, 'force': 2, 'her.': 1, 'other.': 1, 'discover': 1, 'creatures': 2, 'darkness': 1, 'giving': 1, 'secrets.': 1, 'havoc': 1, 'above': 1, 'conduct': 1, 'new': 3, 'abilities.': 1, 'ever': 1, 'filled': 1, 'dweller': 1, 'explore': 3, 'along': 1, 'change': 2, 'great': 1, 'engage': 1, 'beautiful,': 1, 'case,': 1, 'singing': 1, 'crisis': 1, 'story,': 1, 'from': 4, 'takes': 3, 'would': 1, 'codemasters': 1, \"world's\": 1, 'symphony': 1, 'strike': 1, 'until': 1, 'more': 1, 'entrance': 1, 'becomes': 1, 'wars': 1, 'akabha!': 1, 'known': 1, \"game's\": 1, 'quickly.': 1, 'join': 2, 'this': 4, 'can': 2, 'strategies': 1, 'control': 4, 'caves,': 1, 'voice': 1, 'fearsome': 1, 'kantra,': 1, 'inhabitants': 1, 'aquaria.': 1, 'how': 1, 'colonies,': 1, 'armies': 1, 'continues': 1, 'galactic': 1, 'may': 2, 'waters': 2, 'adventure': 1, 'man': 1, 'overs,': 1, 'fallen': 1, 'ultimate': 1, 'fundamental': 1, 'travel': 1, 'remnants': 1, 'help': 2, 'over': 1, 'years': 1, 'through': 1, 'still': 1, 'its': 2, 'choices.': 1, 'underwater': 1, 'lovingly': 1, 'chosen': 1, 'teeming': 1, 'systems': 1, 'hidden': 1, 'conquest': 1, 'world,': 3, 'versus': 1, 'then': 1, 'songs,': 2, 'collide': 1, 'band': 1, 'naija': 4, 'cowering': 1, 'legendary': 1, 'possess': 1, 'battlefields': 1, 'awaken': 1, 'mastery': 1, 'fully': 1, 'system,': 1, 'form,': 1, 'each': 3, 'found': 1, 'ever-evolving': 1, 'expect': 1, 'explores': 1, 'special': 1, 'spells,': 1, 'matrix': 1, 'space': 1, 'catacombs': 1, 'your': 2, 'oases,': 1, 'dominate': 1, 'cause': 1, 'maneuver': 1, 'free': 1, 'mmo': 2, 'advisor': 1, 'nuia': 2, 'princess': 1, 'created': 1, 'schism.': 1, 'terrible': 1, 'naija,': 1, 'turn': 1, 'massive': 2, 'threat': 1, 'cooperating': 1, 'empire.': 1, 'first': 1, 'sprawling': 1, 'features': 2, 'nhn': 1, 'powerful': 2, 'waged': 1, 'one': 4, 'fantasy': 1, 'reigned': 1, 'electronic': 1, 'ancient': 3, 'family,': 1, 'endless,': 1, 'least': 1, 'their': 3, 'which': 2, 'that': 4, 'visuals,': 1, 'part': 1, 'begins': 1, 'guild': 3, 'enables': 1, 'interactive': 1, 'have': 2, 'ocean': 1, 'any': 1, 'prosperity': 1, 'able': 1, 'also': 1, 'take': 1, 'forces': 1, 'cemetery,': 1, 'sultanate': 1, 'greatest': 1, 'play': 1, 'combat': 2, 'who': 1, 'ground.': 1, 'depths': 2, 'most': 1, 'gracefully': 1, 'face': 1, \"you'll\": 1, 'storyline': 1, 'underground.': 1, 'sing,': 1, 'rts': 1, 'rough': 1, 'boundaries': 1, '2526': 1, 'wreak': 1, 'only': 1, 'years,': 1, 'inhabit': 1, 'gains': 1, 'get': 1, 'famous': 1, 'competing': 1, 'areas': 1, 'reveal': 1, 'galaxy,': 1, 'betrayal,': 1, 'she': 3, 'london': 1, 'river': 1, 'where': 4, 'pvp': 1, 'shrouded': 1, 'depends': 1, 'are': 3, 'fails': 1, 'learns': 1, 'narrated': 1, 'game.': 1, 'adventure.': 1, 'trade,': 1, 'numerous': 1, 'heroes.': 1, 'creators.': 1, 'powers.': 1, 'deliver': 1, 'premise': 1, 'both': 1, 'secrets': 1, 'many': 1, 'against': 1, 'players': 4, 'games': 1, 'way,': 1, 'comes': 1, 'surface,': 1, 'bestows': 1, 'orchestra.': 1, 'caverns': 1, 'town?': 1, 'arts': 1, 'underworld': 1, \"it's\": 1, 'strategy': 1, 'combined': 1, 'games,': 1, 'games.': 1, 'armies,': 1, 'life': 1, 'lived': 1, 'thousand': 1, '-': 1, 'search': 1, 'beasts,': 1, \"naija's\": 1, 'races': 1, 'archlord': 5, 'those': 1, 'atmospheric': 1, 'these': 1, 'will': 2, 'cast': 1, 'stunning': 1, 'relics,': 1, 'guide': 1, 'disappeared?': 1, 'is': 6, 'it': 6, 'player': 3, 'if': 2, 'make': 1, 'complex': 1, 'descend': 1, \"aquaria's\": 2, 'dreamcatcher': 1, 'journeys,': 1, 'faces': 1, 'ruler.': 1, 'possible': 1, 'beast': 1, 'opportunity': 2, 'tradition': 1, 'knights,': 1, 'weave': 1, 'off': 1, 'options': 1, 'yet.': 1, 'fleets,': 1, 'exigo,': 2, 'hearts': 1, 'audio': 1, 'realised': 1, \"she'll\": 1, 'they': 3, 'gods': 1, 'competitive': 1, 'world': 4, 'speed': 1, 'wage': 1, 'blot': 1, 'easy': 1, 'complex,': 1, 'has': 3, 'swim': 1, 'ago,': 1, 'around': 1, 'worlds': 1, 'verse.': 1, 'dark': 1, 'game': 5, 'quest': 1, 'using': 1, 'bit': 1, 'unique': 1, 'korean': 1, 'advanced': 1, 'incredibly': 1, 'lost': 1, 'gift': 1, 'opera': 1, 'either': 1, 'become': 2, 'battlefield': 1, 'valleys': 1, 'world\\xe2\\x80\\x99s': 1, 'creation': 2, 'magnificent': 1, 'begin': 1, 'gamers:': 1, 'mmo,': 1, 'enemies': 1, 'meeting-place': 1, 'recorded': 1, 'harihara': 2, 'month,': 1, 'epic': 3, 'be': 1, 'power': 1, 'broken': 1, 'although': 1, 'by': 4, 'on': 6, 'about': 1, 'sinister': 1, 'introduces': 1, 'or': 3, 'publishers.': 1, 'into': 2, 'interstellar': 1, 'two': 2, 'archlord!': 1, 'armada': 1, 'continent,': 1, 'battles.': 2, 'landscape.': 1, 'her': 3, 'there': 2, 'lone': 1, 'fight': 1, 'biggest': 1, 'was': 1, 'war': 1, 'relic': 1, 'but': 1, 'delivers': 1, 'elves,': 1, 'with': 11, 'survival.': 1, 'darkness,': 1, 'intuitive': 1, 'dangerous': 1, 'up': 1, 'below': 1, 'mighty': 2, 'archons.': 1, 'supreme': 2, 'continents.': 1, 'princess:': 1, 'deep': 1, 'an': 3, 'research,': 1, 'as': 9, 'at': 2, 'ancestors': 1, 'incredible': 1, 'peace': 2, 'when': 1, 'forests': 1, 'in-game': 1, 'role': 1, 'details': 1, 'you': 6, 'developers': 1, 'handcrafted': 1, 'empires': 1, 'yours,': 1, 'star': 1, 'users': 1, 'journey': 1, 'together': 2, 'evil.': 1, 'utilises': 1})\n"
     ]
    }
   ],
   "source": [
    "pprint(frequency)"
   ]
  },
  {
   "cell_type": "code",
   "execution_count": 20,
   "metadata": {
    "collapsed": false
   },
   "outputs": [
    {
     "name": "stdout",
     "output_type": "stream",
     "text": [
      "Dictionary(75 unique tokens: [u'control', u'all', u'peace', u'force', u'features']...)\n"
     ]
    }
   ],
   "source": [
    "dictionary = corpora.Dictionary(texts)\n",
    "dictionary.save('/tmp/model_test.dict')\n",
    "print dictionary"
   ]
  },
  {
   "cell_type": "code",
   "execution_count": 21,
   "metadata": {
    "collapsed": false
   },
   "outputs": [
    {
     "name": "stdout",
     "output_type": "stream",
     "text": [
      "{u'all': 1,\n",
      " u'an': 45,\n",
      " u'ancient': 11,\n",
      " u\"aquaria's\": 30,\n",
      " u'archlord': 56,\n",
      " u'are': 55,\n",
      " u'as': 6,\n",
      " u'at': 38,\n",
      " u'battle': 58,\n",
      " u'battles.': 62,\n",
      " u'become': 37,\n",
      " u'by': 27,\n",
      " u'can': 19,\n",
      " u'change': 28,\n",
      " u'combat': 21,\n",
      " u'control': 0,\n",
      " u'creation': 49,\n",
      " u'creatures': 10,\n",
      " u'depths': 24,\n",
      " u'each': 36,\n",
      " u'epic': 60,\n",
      " u'exigo,': 74,\n",
      " u'explore': 68,\n",
      " u'features': 46,\n",
      " u'force': 2,\n",
      " u'from': 12,\n",
      " u'game': 40,\n",
      " u'guild': 47,\n",
      " u'harihara': 67,\n",
      " u'has': 17,\n",
      " u'have': 8,\n",
      " u'help': 73,\n",
      " u'her': 13,\n",
      " u'if': 42,\n",
      " u'into': 64,\n",
      " u'is': 3,\n",
      " u'it': 5,\n",
      " u'its': 9,\n",
      " u'join': 31,\n",
      " u'massive': 7,\n",
      " u'may': 63,\n",
      " u'mighty': 72,\n",
      " u'mmo': 54,\n",
      " u'naija': 25,\n",
      " u'new': 15,\n",
      " u'nuia': 69,\n",
      " u'on': 29,\n",
      " u'one': 52,\n",
      " u'opportunity': 61,\n",
      " u'or': 66,\n",
      " u'peace': 65,\n",
      " u'player': 39,\n",
      " u'players': 34,\n",
      " u'powerful': 4,\n",
      " u'relics': 48,\n",
      " u'she': 35,\n",
      " u'songs,': 20,\n",
      " u'supreme': 43,\n",
      " u'takes': 41,\n",
      " u'that': 22,\n",
      " u'their': 53,\n",
      " u'there': 44,\n",
      " u'they': 50,\n",
      " u'this': 32,\n",
      " u'together': 51,\n",
      " u'two': 14,\n",
      " u'waters': 23,\n",
      " u'where': 70,\n",
      " u'which': 57,\n",
      " u'will': 33,\n",
      " u'with': 26,\n",
      " u'world': 59,\n",
      " u'world,': 18,\n",
      " u'you': 16,\n",
      " u'your': 71}\n"
     ]
    }
   ],
   "source": [
    "pprint(dictionary.token2id)"
   ]
  },
  {
   "cell_type": "code",
   "execution_count": 22,
   "metadata": {
    "collapsed": true
   },
   "outputs": [],
   "source": [
    "corpus = [dictionary.doc2bow(text) for text in texts]\n",
    "corpora.MmCorpus.serialize('/tmp/model_test.mm', corpus)"
   ]
  },
  {
   "cell_type": "code",
   "execution_count": 24,
   "metadata": {
    "collapsed": true
   },
   "outputs": [],
   "source": [
    "tfidf = models.TfidfModel(corpus)\n",
    "corpus_tfidf = tfidf[corpus]"
   ]
  },
  {
   "cell_type": "code",
   "execution_count": 25,
   "metadata": {
    "collapsed": true
   },
   "outputs": [],
   "source": [
    "lsi = models.LsiModel(corpus_tfidf, id2word=dictionary, num_topics=2)\n",
    "corpus_lsi = lsi[corpus_tfidf]"
   ]
  },
  {
   "cell_type": "code",
   "execution_count": 26,
   "metadata": {
    "collapsed": false
   },
   "outputs": [
    {
     "data": {
      "text/plain": [
       "[u'0.232*\"where\" + 0.213*\"as\" + 0.211*\"exigo,\" + 0.211*\"with\" + 0.209*\"naija\" + 0.195*\"archlord\" + 0.194*\"this\" + 0.185*\"or\" + 0.177*\"world\" + 0.177*\"at\"',\n",
       " u'0.422*\"help\" + 0.422*\"mighty\" + 0.269*\"or\" + 0.258*\"you\" + 0.239*\"explore\" + -0.216*\"at\" + 0.184*\"your\" + 0.179*\"harihara\" + 0.179*\"may\" + 0.179*\"nuia\"']"
      ]
     },
     "execution_count": 26,
     "metadata": {},
     "output_type": "execute_result"
    }
   ],
   "source": [
    "lsi.print_topics(2)"
   ]
  },
  {
   "cell_type": "code",
   "execution_count": 27,
   "metadata": {
    "collapsed": false
   },
   "outputs": [
    {
     "name": "stdout",
     "output_type": "stream",
     "text": [
      "[(0, 2.6470318519537366), (1, -0.42265392395086221)]\n"
     ]
    }
   ],
   "source": [
    "# Now check out a new game summary that is also a Fantasy\n",
    "doc = \"Age of Wonders: Shadow Magic takes the acclaimed fantasy strategy series to new heights. This new stand-alone game enhances the series' praised fusion of empire building, role-playing and tactical combat with the eerie Shadow World and battle with races never before seen, across new and diverse landscapes. Combined with the option of creating a totally unique environment with the map editor and rewriting the history of this world through the enhanced campaign editor, you are ensured a constant stream of completely new game experiences. Gathering of Developers\"\n",
    "vec_bow = dictionary.doc2bow(doc.lower().split())\n",
    "vec_lsi = lsi[vec_bow]\n",
    "print vec_lsi"
   ]
  },
  {
   "cell_type": "code",
   "execution_count": 30,
   "metadata": {
    "collapsed": false
   },
   "outputs": [
    {
     "name": "stderr",
     "output_type": "stream",
     "text": [
      "WARNING:gensim.similarities.docsim:scanning corpus to determine the number of features (consider setting `num_features` explicitly)\n"
     ]
    }
   ],
   "source": [
    "index = similarities.MatrixSimilarity(lsi[corpus])\n",
    "index.save('/tmp/model_test.index')\n",
    "index = similarities.MatrixSimilarity.load('/tmp/model_test.index')"
   ]
  },
  {
   "cell_type": "code",
   "execution_count": 31,
   "metadata": {
    "collapsed": false
   },
   "outputs": [
    {
     "name": "stdout",
     "output_type": "stream",
     "text": [
      "[(0, 0.99231941), (1, 0.8920393), (2, 0.9729495), (3, 0.6133374), (4, 0.32615656), (5, 0.98409629)]\n"
     ]
    }
   ],
   "source": [
    "sims = index[vec_lsi]\n",
    "print list(enumerate(sims))"
   ]
  },
  {
   "cell_type": "code",
   "execution_count": 32,
   "metadata": {
    "collapsed": false
   },
   "outputs": [
    {
     "name": "stdout",
     "output_type": "stream",
     "text": [
      "[(0, 0.99231941), (5, 0.98409629), (2, 0.9729495), (1, 0.8920393), (3, 0.6133374), (4, 0.32615656)]\n"
     ]
    }
   ],
   "source": [
    "sims = sorted(enumerate(sims), key=lambda item: -item[1])\n",
    "print(sims)"
   ]
  },
  {
   "cell_type": "code",
   "execution_count": null,
   "metadata": {
    "collapsed": true
   },
   "outputs": [],
   "source": []
  }
 ],
 "metadata": {
  "kernelspec": {
   "display_name": "Python 2",
   "language": "python",
   "name": "python2"
  },
  "language_info": {
   "codemirror_mode": {
    "name": "ipython",
    "version": 2
   },
   "file_extension": ".py",
   "mimetype": "text/x-python",
   "name": "python",
   "nbconvert_exporter": "python",
   "pygments_lexer": "ipython2",
   "version": "2.7.10"
  }
 },
 "nbformat": 4,
 "nbformat_minor": 0
}
