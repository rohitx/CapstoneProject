{
 "cells": [
  {
   "cell_type": "markdown",
   "metadata": {},
   "source": [
    "# Exploratory Data Analysis \n",
    "\n",
    "Here I will explore the two datasets I have and figure out how best to create the pipeline for the project. Here, I will also do some data cleaning. "
   ]
  },
  {
   "cell_type": "code",
   "execution_count": 23,
   "metadata": {
    "collapsed": false
   },
   "outputs": [
    {
     "data": {
      "text/html": [
       "<script>\n",
       "code_show=true; \n",
       "function code_toggle() {\n",
       " if (code_show){\n",
       " $('div.input').hide();\n",
       " } else {\n",
       " $('div.input').show();\n",
       " }\n",
       " code_show = !code_show\n",
       "} \n",
       "$( document ).ready(code_toggle);\n",
       "</script>\n",
       "The raw code for this IPython notebook is by default hidden for easier reading.\n",
       "To toggle on/off the raw code, click <a href=\"javascript:code_toggle()\">here</a>."
      ],
      "text/plain": [
       "<IPython.core.display.HTML object>"
      ]
     },
     "execution_count": 23,
     "metadata": {},
     "output_type": "execute_result"
    }
   ],
   "source": [
    "from IPython.display import HTML\n",
    "HTML('''<script>\n",
    "code_show=true; \n",
    "function code_toggle() {\n",
    " if (code_show){\n",
    " $('div.input').hide();\n",
    " } else {\n",
    " $('div.input').show();\n",
    " }\n",
    " code_show = !code_show\n",
    "} \n",
    "$( document ).ready(code_toggle);\n",
    "</script>\n",
    "The raw code for this IPython notebook is by default hidden for easier reading.\n",
    "To toggle on/off the raw code, click <a href=\"javascript:code_toggle()\">here</a>.''')"
   ]
  },
  {
   "cell_type": "code",
   "execution_count": 260,
   "metadata": {
    "collapsed": true
   },
   "outputs": [],
   "source": [
    "from pymongo import MongoClient\n",
    "import pandas as pd\n",
    "import matplotlib.pyplot as plt\n",
    "%matplotlib inline \n",
    "import matplotlib \n",
    "matplotlib.style.use('ggplot')\n",
    "import pprint\n",
    "import re\n",
    "from gensim import corpora, models, similarities"
   ]
  },
  {
   "cell_type": "code",
   "execution_count": 3,
   "metadata": {
    "collapsed": true
   },
   "outputs": [],
   "source": [
    "client = MongoClient()\n",
    "# Pop Games\n",
    "db_popGames = client.Games\n",
    "cursor_popGames = db_popGames.PopularGames.find()\n",
    "df_popGames = pd.DataFrame(list(cursor_popGames))\n",
    "\n",
    "# Indie Games\n",
    "db_indieGames = client.Games\n",
    "cursor_indieGames = db_indieGames.IndieGames.find()\n",
    "df_indieGames = pd.DataFrame(list(cursor_indieGames))"
   ]
  },
  {
   "cell_type": "markdown",
   "metadata": {},
   "source": [
    "## Let's check the number of games by their genre"
   ]
  },
  {
   "cell_type": "code",
   "execution_count": 31,
   "metadata": {
    "collapsed": false
   },
   "outputs": [
    {
     "name": "stdout",
     "output_type": "stream",
     "text": [
      "2D 3D 4X Action Action Adventure Action RPG Adventure Games Alternative Sports Arcade Artillery Automobile Baseball Basketball Beat-'Em-Up Biking Billiards Board / Card Game Board Games Bowling Breeding/Constructing Business / Tycoon Car Combat Card Battle Card Battle Games Career Civilian Civilian Plane Combat Combat Sims Command Compilation Compilations Console-style RPG Defense Demolition Derby Fantasy Fighting First-Person First-Person Shooters Football Formula One Futuristic Futuristic Combat Sims Futuristic Jet Futuristic Sub GT / Street Gambling General Golf Government Helicopter Historic Hockey Horizontal Horror Hunting Interactive Movie Japanese-Style Kart Large Spaceship Light Gun Linear MOBA Management Massively Multiplayer Matching Mech Military Miscellaneous Mission-based Modern Modern Jet Motocross Music Old Jet Olympic Sports On-foot Open-World Other Other Driving Games Other Shooters Other Sports Games Other Strategy Games PC-style RPG Parlor Games Party Pinball Platformers Point-and-Click Puzzle Racing Rail Rally / Offroad Real-Time Strategy Rhythm Games Roguelike Role-Playing Rugby Sandbox Sci-Fi Scrolling Ship Shooter Sim Simulations Skate / Skateboard Skateboarding Small Spaceship Snowboarding Soccer Static Stock Car Street Submarine Surfing Survival Tactical Tactical Shooters Tactics Tank Tennis Text Third-Person Top-Down Train Trivia / Game Show Truck Turn-Based Strategy Tycoon Vertical Virtual Life Virtual Life Games Visual Novel Volleyball WWI WWII Western-Style Wrestling\n"
     ]
    }
   ],
   "source": [
    "# Genre by Popular Games\n",
    "df_popGenre  = df_popGames['genre'].unique()\n",
    "for p in sorted(df_popGenre):\n",
    "    print p,"
   ]
  },
  {
   "cell_type": "code",
   "execution_count": 40,
   "metadata": {
    "collapsed": false
   },
   "outputs": [
    {
     "data": {
      "text/html": [
       "<div>\n",
       "<table border=\"1\" class=\"dataframe\">\n",
       "  <thead>\n",
       "    <tr style=\"text-align: right;\">\n",
       "      <th></th>\n",
       "      <th>_id</th>\n",
       "      <th>game_link</th>\n",
       "      <th>game_name</th>\n",
       "      <th>genre</th>\n",
       "      <th>review_count</th>\n",
       "      <th>score</th>\n",
       "      <th>summary</th>\n",
       "    </tr>\n",
       "  </thead>\n",
       "  <tbody>\n",
       "    <tr>\n",
       "      <th>208</th>\n",
       "      <td>ashes-cricket-2009</td>\n",
       "      <td>http://www.metacritic.com/game/pc/ashes-cricke...</td>\n",
       "      <td>ashes-cricket-2009</td>\n",
       "      <td>Other Sports Games</td>\n",
       "      <td>\\n4\\n</td>\n",
       "      <td>6.9</td>\n",
       "      <td>Providing gamers with the most authentic Ashes...</td>\n",
       "    </tr>\n",
       "    <tr>\n",
       "      <th>430</th>\n",
       "      <td>brian-lara-international-cricket-2007</td>\n",
       "      <td>http://www.metacritic.com/game/pc/brian-lara-i...</td>\n",
       "      <td>brian-lara-international-cricket-2007</td>\n",
       "      <td>Other Sports Games</td>\n",
       "      <td>\\n7\\n</td>\n",
       "      <td>8.0</td>\n",
       "      <td>(Also known as \"Ricky Ponting International Cr...</td>\n",
       "    </tr>\n",
       "    <tr>\n",
       "      <th>2906</th>\n",
       "      <td>tennis-masters-series</td>\n",
       "      <td>http://www.metacritic.com/game/pc/tennis-maste...</td>\n",
       "      <td>tennis-masters-series</td>\n",
       "      <td>Other Sports Games</td>\n",
       "      <td>\\n10\\n</td>\n",
       "      <td>8.0</td>\n",
       "      <td>Test your skills against 71 professional playe...</td>\n",
       "    </tr>\n",
       "    <tr>\n",
       "      <th>3217</th>\n",
       "      <td>title-bout-championship-boxing</td>\n",
       "      <td>http://www.metacritic.com/game/pc/title-bout-c...</td>\n",
       "      <td>title-bout-championship-boxing</td>\n",
       "      <td>Other Sports Games</td>\n",
       "      <td>\\n4\\n</td>\n",
       "      <td>7.5</td>\n",
       "      <td>Title Bout Championship Boxing is the ultimate...</td>\n",
       "    </tr>\n",
       "    <tr>\n",
       "      <th>3502</th>\n",
       "      <td>winter-sports-2012-feel-the-spirit</td>\n",
       "      <td>http://www.metacritic.com/game/pc/winter-sport...</td>\n",
       "      <td>winter-sports-2012-feel-the-spirit</td>\n",
       "      <td>Other Sports Games</td>\n",
       "      <td>\\n4\\n</td>\n",
       "      <td>4.0</td>\n",
       "      <td>50 challenges await winter sports fans. Specia...</td>\n",
       "    </tr>\n",
       "  </tbody>\n",
       "</table>\n",
       "</div>"
      ],
      "text/plain": [
       "                                        _id  \\\n",
       "208                      ashes-cricket-2009   \n",
       "430   brian-lara-international-cricket-2007   \n",
       "2906                  tennis-masters-series   \n",
       "3217         title-bout-championship-boxing   \n",
       "3502     winter-sports-2012-feel-the-spirit   \n",
       "\n",
       "                                              game_link  \\\n",
       "208   http://www.metacritic.com/game/pc/ashes-cricke...   \n",
       "430   http://www.metacritic.com/game/pc/brian-lara-i...   \n",
       "2906  http://www.metacritic.com/game/pc/tennis-maste...   \n",
       "3217  http://www.metacritic.com/game/pc/title-bout-c...   \n",
       "3502  http://www.metacritic.com/game/pc/winter-sport...   \n",
       "\n",
       "                                  game_name               genre review_count  \\\n",
       "208                      ashes-cricket-2009  Other Sports Games        \\n4\\n   \n",
       "430   brian-lara-international-cricket-2007  Other Sports Games        \\n7\\n   \n",
       "2906                  tennis-masters-series  Other Sports Games       \\n10\\n   \n",
       "3217         title-bout-championship-boxing  Other Sports Games        \\n4\\n   \n",
       "3502     winter-sports-2012-feel-the-spirit  Other Sports Games        \\n4\\n   \n",
       "\n",
       "     score                                            summary  \n",
       "208    6.9  Providing gamers with the most authentic Ashes...  \n",
       "430    8.0  (Also known as \"Ricky Ponting International Cr...  \n",
       "2906   8.0  Test your skills against 71 professional playe...  \n",
       "3217   7.5  Title Bout Championship Boxing is the ultimate...  \n",
       "3502   4.0  50 challenges await winter sports fans. Specia...  "
      ]
     },
     "execution_count": 40,
     "metadata": {},
     "output_type": "execute_result"
    }
   ],
   "source": [
    "df_popGames[(df_popGames[\"genre\"] == \"Other Sports Games\")]"
   ]
  },
  {
   "cell_type": "markdown",
   "metadata": {},
   "source": [
    "### Indie Game Genre"
   ]
  },
  {
   "cell_type": "code",
   "execution_count": 22,
   "metadata": {
    "collapsed": false
   },
   "outputs": [
    {
     "name": "stdout",
     "output_type": "stream",
     "text": [
      "4X Adventure Alternative Sport Arcade Baseball Car Combat Cinematic Combat Sim Educational Family Fighting First Person Shooter Football Futuristic Sim Golf Grand Strategy Hack 'n' Slash MOBA Party Platformer Point and Click Puzzle Compilation Racing Real Time Shooter Real Time Strategy Real Time Tactics Realistic Sim Rhythm Roguelike Role Playing Soccer Stealth Tactical Shooter Third Person Shooter Tower Defense Turn Based Strategy Turn Based Tactics Virtual Life Visual Novel Wrestling\n"
     ]
    }
   ],
   "source": [
    "# Genre by Indie Games \n",
    "df_indieGames_genre = df_indieGames['genre'].unique()\n",
    "for a in sorted(df_indieGames_genre):\n",
    "    print a,"
   ]
  },
  {
   "cell_type": "markdown",
   "metadata": {},
   "source": [
    "### 13,000 Indie Games scrapped genre"
   ]
  },
  {
   "cell_type": "code",
   "execution_count": 10,
   "metadata": {
    "collapsed": true
   },
   "outputs": [],
   "source": [
    "# Let's compare the genre from the CSV file that I wanted to scrape. This includes 13,000 games.\n",
    "df_games_to_scrape = pd.read_csv(\"../IndieGamesToScrape.csv\")"
   ]
  },
  {
   "cell_type": "code",
   "execution_count": 21,
   "metadata": {
    "collapsed": false
   },
   "outputs": [
    {
     "name": "stdout",
     "output_type": "stream",
     "text": [
      "4X Adventure Alternative Sport Arcade Baseball Basketball Car Combat Cinematic Combat Sim Educational Family Fighting First Person Shooter Football Futuristic Sim Golf Grand Strategy Hack 'n' Slash Hockey MOBA Party Party Based Platformer Point and Click Puzzle Compilation Racing Real Time Shooter Real Time Strategy Real Time Tactics Realistic Sim Rhythm Roguelike Role Playing Soccer Stealth Tactical Shooter Third Person Shooter Tower Defense Turn Based Strategy Turn Based Tactics Virtual Life Visual Novel Wrestling\n"
     ]
    }
   ],
   "source": [
    "genre_to_scrape = df_games_to_scrape['genre'].unique()\n",
    "for p in sorted(genre_to_scrape):\n",
    "    print p,"
   ]
  },
  {
   "cell_type": "markdown",
   "metadata": {},
   "source": [
    "#### So I find the subset of games that I have include mostly all of the games. So the 13,000 games are represented by the 1500 games I have with me now. "
   ]
  },
  {
   "cell_type": "markdown",
   "metadata": {},
   "source": [
    "Creating buckets of games. I will do this for popular games"
   ]
  },
  {
   "cell_type": "code",
   "execution_count": 198,
   "metadata": {
    "collapsed": false
   },
   "outputs": [
    {
     "data": {
      "text/plain": [
       "[u'\\n\\n\\n\\nPlayers pilot a Gun Ship and battle aliens, pirates, and other villainous enemies, to gain levels, skills, and most importantly, discover unique and potentially more powerful weapon systems to outfit their Gun Ships. Through the unique cgNEAT content-generation technology, new weapons are constantly created by the game automatically based on player preferences. Every weapon in the game is unique. NOTE: Requires XNA 4 which is included in the download! \\n\\n']"
      ]
     },
     "execution_count": 198,
     "metadata": {},
     "output_type": "execute_result"
    }
   ],
   "source": [
    "df_indieGames.summary.loc[0]"
   ]
  },
  {
   "cell_type": "code",
   "execution_count": 199,
   "metadata": {
    "collapsed": false
   },
   "outputs": [],
   "source": [
    "all_docs = df_indieGames.summary\n",
    "sub_docs = all_docs[:5]\n",
    "\n",
    "#for l in word_list:\n",
    "#    for word in l:\n",
    "#        print word.lower().replace(\"\\n\", \"\").replace(\".\", \"\").replace('\"', \"\").replace(\"(\",\"\").replace(\")\",\"\"),"
   ]
  },
  {
   "cell_type": "markdown",
   "metadata": {},
   "source": [
    "## Sub_summaries"
   ]
  },
  {
   "cell_type": "code",
   "execution_count": 200,
   "metadata": {
    "collapsed": false
   },
   "outputs": [
    {
     "data": {
      "text/plain": [
       "0    [\\n\\n\\n\\nPlayers pilot a Gun Ship and battle a...\n",
       "1    [\\n\\n\\n\\nEvery goverment has secrets. These se...\n",
       "2    [\\n\\n\\n\\n\\n\\n\\nAfter an endless fall through p...\n",
       "3    [\\n\\n\\n\\n\\n\\n\\n\\nThis is port of amazing PC ga...\n",
       "4    [\\n\\n\\n\\nMTBFreerideVR, with support Oculus Ri...\n",
       "Name: summary, dtype: object"
      ]
     },
     "execution_count": 200,
     "metadata": {},
     "output_type": "execute_result"
    }
   ],
   "source": [
    "sub_docs"
   ]
  },
  {
   "cell_type": "markdown",
   "metadata": {},
   "source": [
    "### Remove Stop Words"
   ]
  },
  {
   "cell_type": "code",
   "execution_count": 201,
   "metadata": {
    "collapsed": false
   },
   "outputs": [],
   "source": [
    "documents = []\n",
    "for a in sub_docs:\n",
    "    for word in a:\n",
    "        documents.append(\"\".join(word.encode(\"utf-8\")))"
   ]
  },
  {
   "cell_type": "code",
   "execution_count": 240,
   "metadata": {
    "collapsed": false
   },
   "outputs": [
    {
     "name": "stdout",
     "output_type": "stream",
     "text": [
      "<type 'str'>\n",
      "<type 'str'>\n",
      "<type 'str'>\n",
      "<type 'str'>\n",
      "<type 'str'>\n"
     ]
    }
   ],
   "source": [
    "for doc in documents:\n",
    "    print type(doc)"
   ]
  },
  {
   "cell_type": "code",
   "execution_count": 202,
   "metadata": {
    "collapsed": false
   },
   "outputs": [
    {
     "data": {
      "text/plain": [
       "'\\n\\n\\n\\nPlayers pilot a Gun Ship and battle aliens, pirates, and other villainous enemies, to gain levels, skills, and most importantly, discover unique and potentially more powerful weapon systems to outfit their Gun Ships. Through the unique cgNEAT content-generation technology, new weapons are constantly created by the game automatically based on player preferences. Every weapon in the game is unique. NOTE: Requires XNA 4 which is included in the download! \\n\\n'"
      ]
     },
     "execution_count": 202,
     "metadata": {},
     "output_type": "execute_result"
    }
   ],
   "source": [
    "documents[0]"
   ]
  },
  {
   "cell_type": "code",
   "execution_count": 203,
   "metadata": {
    "collapsed": false
   },
   "outputs": [],
   "source": [
    "documents[0] = documents[0].lower()\n",
    "documents[0] = re.sub('[\\\\@$\\/\\#\\.\\-:&\\*\\+\\=\\[\\]?!\\(\\)\\{\\},\\'\\\">\\_<;%]',r'',documents[0])\n",
    "documents[0] = re.sub(r'\\s+',r' ', documents[0])"
   ]
  },
  {
   "cell_type": "code",
   "execution_count": 215,
   "metadata": {
    "collapsed": false
   },
   "outputs": [
    {
     "data": {
      "text/plain": [
       "' players pilot a gun ship and battle aliens pirates and other villainous enemies to gain levels skills and most importantly discover unique and potentially more powerful weapon systems to outfit their gun ships through the unique cgneat contentgeneration technology new weapons are constantly created by the game automatically based on player preferences every weapon in the game is unique note requires xna 4 which is included in the download '"
      ]
     },
     "execution_count": 215,
     "metadata": {},
     "output_type": "execute_result"
    }
   ],
   "source": [
    "documents[0]"
   ]
  },
  {
   "cell_type": "code",
   "execution_count": 232,
   "metadata": {
    "collapsed": false
   },
   "outputs": [],
   "source": [
    "texts = []\n",
    "for document in documents:\n",
    "    document = document.lower()\n",
    "    document = re.sub('[\\\\@$\\/\\#\\.\\-:&\\*\\+\\=\\[\\]?!\\(\\)\\{\\},\\'\\\">\\_<;%]',r'', document)\n",
    "    document = re.sub(r'\\s+',r' ', document)\n",
    "    document = document.replace(\"\\n\", \"\")\n",
    "    document = document.strip()\n",
    "    document = document.split()\n",
    "    texts.append(document)"
   ]
  },
  {
   "cell_type": "code",
   "execution_count": 244,
   "metadata": {
    "collapsed": false
   },
   "outputs": [],
   "source": [
    "texts_clean = []\n",
    "stoplist = set('for a of the and to in'.split())\n",
    "\n",
    "for l in texts:\n",
    "    mylist = []\n",
    "    for word in l:\n",
    "        if word not in stoplist:\n",
    "            mylist.append(word)\n",
    "    texts_clean.append(mylist)\n"
   ]
  },
  {
   "cell_type": "code",
   "execution_count": 254,
   "metadata": {
    "collapsed": true
   },
   "outputs": [],
   "source": [
    "from collections import defaultdict\n",
    "frequency = defaultdict(int)\n",
    "for text in texts_clean:\n",
    "    for token in text:\n",
    "        frequency[token] += 1\n",
    "texts = [[token for token in text if frequency[token] > 1]\n",
    "          for text in texts_clean]"
   ]
  },
  {
   "cell_type": "code",
   "execution_count": 261,
   "metadata": {
    "collapsed": false
   },
   "outputs": [
    {
     "name": "stdout",
     "output_type": "stream",
     "text": [
      "Dictionary(47 unique tokens: [u'this', u'suddenly', u'is', u'powerful', u'discover']...)\n"
     ]
    }
   ],
   "source": [
    "dictionary = corpora.Dictionary(texts)\n",
    "dictionary.save('/tmp/tests.dict')\n",
    "print dictionary"
   ]
  },
  {
   "cell_type": "code",
   "execution_count": 263,
   "metadata": {
    "collapsed": false
   },
   "outputs": [
    {
     "data": {
      "text/plain": [
       "{u'are': 10,\n",
       " u'at': 37,\n",
       " u'be': 18,\n",
       " u'by': 15,\n",
       " u'can': 30,\n",
       " u'constantly': 3,\n",
       " u'discover': 6,\n",
       " u'every': 9,\n",
       " u'experiment': 21,\n",
       " u'from': 20,\n",
       " u'game': 8,\n",
       " u'going': 29,\n",
       " u'goverment': 33,\n",
       " u'gun': 5,\n",
       " u'have': 31,\n",
       " u'higher': 46,\n",
       " u'is': 16,\n",
       " u'its': 44,\n",
       " u'james': 32,\n",
       " u'most': 7,\n",
       " u'new': 12,\n",
       " u'on': 0,\n",
       " u'or': 39,\n",
       " u'powerful': 4,\n",
       " u'project': 27,\n",
       " u'robots': 41,\n",
       " u'secrets': 28,\n",
       " u'skills': 1,\n",
       " u'soon': 42,\n",
       " u'suddenly': 23,\n",
       " u'that': 22,\n",
       " u'this': 40,\n",
       " u'through': 13,\n",
       " u'tower': 43,\n",
       " u'unique': 14,\n",
       " u'us': 26,\n",
       " u'use': 38,\n",
       " u'was': 36,\n",
       " u'we': 25,\n",
       " u'weapon': 2,\n",
       " u'what': 19,\n",
       " u'which': 11,\n",
       " u'with': 24,\n",
       " u'woods': 17,\n",
       " u'x': 34,\n",
       " u'you': 35,\n",
       " u'your': 45}"
      ]
     },
     "execution_count": 263,
     "metadata": {},
     "output_type": "execute_result"
    }
   ],
   "source": [
    "dictionary.token2id"
   ]
  },
  {
   "cell_type": "code",
   "execution_count": 266,
   "metadata": {
    "collapsed": false
   },
   "outputs": [
    {
     "data": {
      "text/plain": [
       "[[(0, 1),\n",
       "  (1, 1),\n",
       "  (2, 2),\n",
       "  (3, 1),\n",
       "  (4, 1),\n",
       "  (5, 2),\n",
       "  (6, 1),\n",
       "  (7, 1),\n",
       "  (8, 2),\n",
       "  (9, 1),\n",
       "  (10, 1),\n",
       "  (11, 1),\n",
       "  (12, 1),\n",
       "  (13, 1),\n",
       "  (14, 3),\n",
       "  (15, 1),\n",
       "  (16, 2)],\n",
       " [(0, 2),\n",
       "  (6, 1),\n",
       "  (9, 1),\n",
       "  (10, 3),\n",
       "  (11, 1),\n",
       "  (13, 1),\n",
       "  (16, 2),\n",
       "  (17, 3),\n",
       "  (18, 1),\n",
       "  (19, 2),\n",
       "  (20, 1),\n",
       "  (21, 3),\n",
       "  (22, 1),\n",
       "  (23, 1),\n",
       "  (24, 1),\n",
       "  (25, 1),\n",
       "  (26, 3),\n",
       "  (27, 4),\n",
       "  (28, 2),\n",
       "  (29, 2),\n",
       "  (30, 2),\n",
       "  (31, 1),\n",
       "  (32, 3),\n",
       "  (33, 2),\n",
       "  (34, 4),\n",
       "  (35, 4),\n",
       "  (36, 2),\n",
       "  (37, 1)],\n",
       " [(1, 1),\n",
       "  (3, 1),\n",
       "  (4, 1),\n",
       "  (7, 1),\n",
       "  (9, 1),\n",
       "  (10, 1),\n",
       "  (13, 1),\n",
       "  (15, 1),\n",
       "  (16, 3),\n",
       "  (18, 1),\n",
       "  (20, 1),\n",
       "  (22, 2),\n",
       "  (23, 1),\n",
       "  (28, 1),\n",
       "  (30, 1),\n",
       "  (31, 1),\n",
       "  (35, 8),\n",
       "  (38, 2),\n",
       "  (39, 2),\n",
       "  (40, 1),\n",
       "  (41, 2),\n",
       "  (42, 1),\n",
       "  (43, 3),\n",
       "  (44, 2),\n",
       "  (45, 5),\n",
       "  (46, 2)],\n",
       " [(0, 1),\n",
       "  (8, 1),\n",
       "  (12, 1),\n",
       "  (16, 1),\n",
       "  (25, 1),\n",
       "  (35, 1),\n",
       "  (37, 1),\n",
       "  (40, 1),\n",
       "  (42, 1)],\n",
       " [(24, 1), (42, 1)]]"
      ]
     },
     "execution_count": 266,
     "metadata": {},
     "output_type": "execute_result"
    }
   ],
   "source": [
    "corpus = [dictionary.doc2bow(text) for text in texts]\n",
    "corpora.MmCorpus.serialize('/tmp/tests.mm', corpus)\n",
    "corpus"
   ]
  },
  {
   "cell_type": "code",
   "execution_count": null,
   "metadata": {
    "collapsed": true
   },
   "outputs": [],
   "source": []
  }
 ],
 "metadata": {
  "kernelspec": {
   "display_name": "Python 2",
   "language": "python",
   "name": "python2"
  },
  "language_info": {
   "codemirror_mode": {
    "name": "ipython",
    "version": 2
   },
   "file_extension": ".py",
   "mimetype": "text/x-python",
   "name": "python",
   "nbconvert_exporter": "python",
   "pygments_lexer": "ipython2",
   "version": "2.7.10"
  }
 },
 "nbformat": 4,
 "nbformat_minor": 0
}
