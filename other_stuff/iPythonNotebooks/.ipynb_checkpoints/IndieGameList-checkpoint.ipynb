{
 "cells": [
  {
   "cell_type": "code",
   "execution_count": 2,
   "metadata": {
    "collapsed": true
   },
   "outputs": [],
   "source": [
    "from bs4 import BeautifulSoup\n",
    "import urllib2\n",
    "import pandas as pd"
   ]
  },
  {
   "cell_type": "code",
   "execution_count": 103,
   "metadata": {
    "collapsed": false
   },
   "outputs": [],
   "source": [
    "def getIndieGameInfo(gameurl):\n",
    "    d = urllib2.urlopen(gameurl).read()\n",
    "    soup = BeautifulSoup(d)\n",
    "\n",
    "    mydivs = soup.findAll(\"div\", { \"class\" : \"row clear\" })\n",
    "\n",
    "    #mydivs.findAll('a', 'href'=True)\n",
    "\n",
    "\n",
    "    mylist = []\n",
    "    for a in mydivs:\n",
    "        mylist.append(a.text)\n",
    "    print \"mylist:\", mylist\n",
    "    for l in mylist:\n",
    "        a = l.split(\"\\n\")\n",
    "        if 'Platform' in a or 'Platforms' in a:\n",
    "            platform = a[2]\n",
    "        elif 'Developed By' in a or 'Developer' in a or 'Developer &amp; Publisher' in a:\n",
    "             developer = a[2]\n",
    "        elif 'Engine' in a:\n",
    "            engine =  a[2]\n",
    "        elif 'Release Date' in a:\n",
    "            release_date = a[2]\n",
    "        elif 'Genre' in a:\n",
    "            genre = a[2]\n",
    "        elif 'Theme' in a:\n",
    "            theme =  a[2]\n",
    "        elif 'Players' in a:\n",
    "            players = a[2]\n",
    "\n",
    "    divScore = soup.findAll(\"div\", { \"class\" : \"score\" })\n",
    "    divRating = soup.findAll(\"div\", { \"class\" : \"rating\" })\n",
    "    score = []\n",
    "    rating = []\n",
    "    for s in divScore:\n",
    "        score.append(s.text)\n",
    "    for r in divRating:\n",
    "        rating.append(r.text)\n",
    "\n",
    "    s = score[0].replace('\\n', '')\n",
    "    score_final = s.split(\"Average\")[-1]\n",
    "    rating = (rating[0].strip(\"\\n\"))[:3]\n",
    "\n",
    "    # Break platform into Boolean\n",
    "    ostype = {'Windows': False, 'Mac': False, 'Linux': False}\n",
    "    oses = platform.split(\",\")\n",
    "    oses = [x.strip() for x in oses]\n",
    "    #print \"Platform:\", platform\n",
    "    #print \"oses: \", oses\n",
    "\n",
    "    for p in oses:\n",
    "        #print p\n",
    "        if p in ostype:\n",
    "            ostype[p] = True\n",
    "    platform_check = [value for key, value in ostype.iteritems()]\n",
    "    #print platform_check\n",
    "    return platform, developer, engine, release_date,\\\n",
    "           genre, theme, players, score_final, rating"
   ]
  },
  {
   "cell_type": "code",
   "execution_count": 104,
   "metadata": {
    "collapsed": true
   },
   "outputs": [],
   "source": [
    "#gameurl = \"http://www.indiedb.com/games/heist-night\"\n",
    "#gameurl = \"http://www.indiedb.com/games/beyond-sol\""
   ]
  },
  {
   "cell_type": "code",
   "execution_count": 105,
   "metadata": {
    "collapsed": false
   },
   "outputs": [],
   "source": [
    "#platform, developer, engine, release_date, genre, theme, players, score_final, rating = getIndieGameInfo(gameurl)"
   ]
  },
  {
   "cell_type": "code",
   "execution_count": 106,
   "metadata": {
    "collapsed": false
   },
   "outputs": [
    {
     "name": "stdout",
     "output_type": "stream",
     "text": [
      "mylist: [u'\\nIcon\\n\\n', u'\\nPlatform\\nWindows\\n', u'\\nDeveloped By\\nSoBCharacter\\n', u'\\nEngine\\nCustom Built\\n', u'\\nOfficial Page\\nAeeria.com\\n', u'\\nRelease Date\\nReleased Sep 30, 2013\\n', u'\\nGame Watch\\nTrack this game\\n', u'\\nShare\\n\\n\\n\\n', u'\\nGenre\\nRole Playing\\n', u'\\nTheme\\nFantasy\\n', u'\\nPlayers\\nMMO\\n', u'\\nProject\\nIndie\\n', u'\\nBoxshot\\n\\n', u'\\nRank\\n426 of 29,511\\n', u'\\nVisits\\n3,418 (25 today)\\n', u'\\nLast Update\\n1 day ago\\n', u'\\nWatchers\\n3 members\\n', u'\\nFiles\\n2\\n', u'\\nArticles\\n2\\n']\n",
      "mylist: [u'\\nIcon\\n\\n', u'\\nPlatform\\nWindows\\n', u'\\nDeveloper\\nOPEN WORLD 3D SURVIVAL GAME DEVELOPMENT\\n', u'\\nEngine\\nUnreal Engine 4\\n', u'\\nOfficial Page\\nSites.google.com\\n', u'\\nRelease Date\\nReleased Jan 16, 2014\\n', u'\\nGame Watch\\nTrack this game\\n', u'\\nShare\\n\\n\\n\\n', u'\\nGenre\\nFirst Person Shooter\\n', u'\\nTheme\\nRealism\\n', u'\\nPlayers\\nSingle & Multiplayer\\n', u'\\nProject\\nIndie\\n', u'\\nBoxshot\\n\\n', u'\\nRank\\n38 of 29,511\\n', u'\\nVisits\\n308,588 (148 today)\\n', u'\\nLast Update\\n1 day ago\\n', u'\\nWatchers\\n642 members\\n', u'\\nFiles\\n4\\n', u'\\nArticles\\n6\\n', u'\\nReviews\\n10\\n']\n",
      "mylist: [u'\\nIcon\\n\\n', u'\\nPlatforms\\nWindows, Mac, Linux\\n', u'\\nDeveloped By\\nastrokeofmadness\\n', u\"\\nEngine\\nRen'py\\n\", u'\\nOfficial Page\\nLemmasoft.renai.us\\n', u'\\nRelease Date\\nReleased Apr 15, 2015\\n', u'\\nGame Watch\\nTrack this game\\n', u'\\nShare\\n\\n\\n\\n', u'\\nGenre\\nVisual Novel\\n', u'\\nTheme\\nRealism\\n', u'\\nPlayers\\nSingle Player\\n', u'\\nProject\\nIndie\\n', u'\\nBoxshot\\n\\n', u'\\nRank\\n3,897 of 29,511\\n', u'\\nVisits\\n4,728 (14 today)\\n', u'\\nLast Update\\n1 hour ago\\n', u'\\nWatchers\\n2 members\\n', u'\\nFiles\\n6\\n']\n",
      "mylist: [u'\\nIcon\\n\\n', u'\\nPlatform\\nWindows\\n', u'\\nDeveloped By\\nraphael-v\\n', u'\\nEngine\\nGameMaker: Studio\\n', u'\\nRelease Date\\nReleased Aug 20, 2015\\n', u'\\nGame Watch\\nTrack this game\\n', u'\\nShare\\n\\n\\n\\n', u'\\nGenre\\nPlatformer\\n', u'\\nTheme\\nAnime\\n', u'\\nPlayers\\nSingle Player\\n', u'\\nProject\\nIndie\\n', u'\\nRank\\n550 of 29,511\\n', u'\\nVisits\\n717 (22 today)\\n', u'\\nLast Update\\n1 day ago\\n', u'\\nWatchers\\n1 member\\n', u'\\nFiles\\n2\\n']\n",
      "mylist: [u'\\nIcon\\n\\n', u'\\nPlatforms\\nWindows, Mac, Linux\\n', u'\\nEngine\\nCustom Built\\n', u'\\nOfficial Page\\nIcantescape.com\\n', u'\\nRelease Date\\nReleased Sep 17, 2015\\n', u'\\nGame Watch\\nTrack this game\\n', u'\\nShare\\n\\n\\n\\n', u'\\nGenre\\nAdventure\\n', u'\\nTheme\\nHorror\\n', u'\\nPlayers\\nSingle Player\\n', u'\\nProject\\nIndie\\n', u\"\\n\\n\\nI Can't Escape\\nAdventure\\n\\n\", u\"\\n\\n\\nI Can't Escape: Darkness\\nAdventure\\n\\n\", u'\\nRank\\n61 of 29,511\\n', u'\\nVisits\\n12,140 (123 today)\\n', u'\\nLast Update\\n1 day ago\\n', u'\\nWatchers\\n88 members\\n', u'\\nArticles\\n16\\n']\n"
     ]
    },
    {
     "ename": "UnboundLocalError",
     "evalue": "local variable 'developer' referenced before assignment",
     "output_type": "error",
     "traceback": [
      "\u001b[0;31m---------------------------------------------------------------------------\u001b[0m",
      "\u001b[0;31mUnboundLocalError\u001b[0m                         Traceback (most recent call last)",
      "\u001b[0;32m<ipython-input-106-4a0b114fd1f1>\u001b[0m in \u001b[0;36m<module>\u001b[0;34m()\u001b[0m\n\u001b[1;32m      6\u001b[0m     \u001b[0;32mfor\u001b[0m \u001b[0mgame\u001b[0m \u001b[0;32min\u001b[0m \u001b[0mtry_games\u001b[0m\u001b[0;34m:\u001b[0m\u001b[0;34m\u001b[0m\u001b[0m\n\u001b[1;32m      7\u001b[0m         \u001b[0mgameurl\u001b[0m \u001b[0;34m=\u001b[0m \u001b[0;34m\"http://indiedb.com\"\u001b[0m\u001b[0;34m+\u001b[0m\u001b[0mgame\u001b[0m\u001b[0;34m\u001b[0m\u001b[0m\n\u001b[0;32m----> 8\u001b[0;31m         \u001b[0mplatform_check\u001b[0m\u001b[0;34m,\u001b[0m \u001b[0mdeveloper\u001b[0m\u001b[0;34m,\u001b[0m \u001b[0mengine\u001b[0m\u001b[0;34m,\u001b[0m \u001b[0mrelease_date\u001b[0m\u001b[0;34m,\u001b[0m \u001b[0mgenre\u001b[0m\u001b[0;34m,\u001b[0m \u001b[0mtheme\u001b[0m\u001b[0;34m,\u001b[0m \u001b[0mplayers\u001b[0m\u001b[0;34m,\u001b[0m \u001b[0mscore_final\u001b[0m\u001b[0;34m,\u001b[0m \u001b[0mrating\u001b[0m \u001b[0;34m=\u001b[0m \u001b[0mgetIndieGameInfo\u001b[0m\u001b[0;34m(\u001b[0m\u001b[0mgameurl\u001b[0m\u001b[0;34m)\u001b[0m\u001b[0;34m\u001b[0m\u001b[0m\n\u001b[0m\u001b[1;32m      9\u001b[0m         \u001b[0mf\u001b[0m\u001b[0;34m.\u001b[0m\u001b[0mwrite\u001b[0m\u001b[0;34m(\u001b[0m\u001b[0;34m\"{p:s},{d:s},{e:s},{r:s},{g:s},{t:s},{pl:s},               {sf:s},{ra:s}, {grl:s},\\n\"\u001b[0m\u001b[0;34m.\u001b[0m\u001b[0mformat\u001b[0m\u001b[0;34m(\u001b[0m\u001b[0mp\u001b[0m\u001b[0;34m=\u001b[0m\u001b[0mplatform_check\u001b[0m\u001b[0;34m,\u001b[0m \u001b[0md\u001b[0m\u001b[0;34m=\u001b[0m\u001b[0mdeveloper\u001b[0m\u001b[0;34m,\u001b[0m \u001b[0me\u001b[0m\u001b[0;34m=\u001b[0m\u001b[0mengine\u001b[0m\u001b[0;34m,\u001b[0m \u001b[0mr\u001b[0m\u001b[0;34m=\u001b[0m\u001b[0mrelease_date\u001b[0m\u001b[0;34m,\u001b[0m                                      \u001b[0mg\u001b[0m\u001b[0;34m=\u001b[0m\u001b[0mgenre\u001b[0m\u001b[0;34m,\u001b[0m \u001b[0mt\u001b[0m\u001b[0;34m=\u001b[0m\u001b[0mtheme\u001b[0m\u001b[0;34m,\u001b[0m \u001b[0mpl\u001b[0m\u001b[0;34m=\u001b[0m\u001b[0mplayers\u001b[0m\u001b[0;34m,\u001b[0m \u001b[0msf\u001b[0m\u001b[0;34m=\u001b[0m\u001b[0mscore_final\u001b[0m\u001b[0;34m,\u001b[0m \u001b[0mra\u001b[0m\u001b[0;34m=\u001b[0m\u001b[0mrating\u001b[0m\u001b[0;34m,\u001b[0m \u001b[0mgrl\u001b[0m\u001b[0;34m=\u001b[0m\u001b[0mgameurl\u001b[0m\u001b[0;34m)\u001b[0m\u001b[0;34m)\u001b[0m\u001b[0;34m\u001b[0m\u001b[0m\n\u001b[1;32m     10\u001b[0m \u001b[0mf\u001b[0m\u001b[0;34m.\u001b[0m\u001b[0mclose\u001b[0m\u001b[0;34m(\u001b[0m\u001b[0;34m)\u001b[0m\u001b[0;34m\u001b[0m\u001b[0m\n",
      "\u001b[0;32m<ipython-input-103-b11e9e298c52>\u001b[0m in \u001b[0;36mgetIndieGameInfo\u001b[0;34m(gameurl)\u001b[0m\n\u001b[1;32m     55\u001b[0m     \u001b[0mplatform_check\u001b[0m \u001b[0;34m=\u001b[0m \u001b[0;34m[\u001b[0m\u001b[0mvalue\u001b[0m \u001b[0;32mfor\u001b[0m \u001b[0mkey\u001b[0m\u001b[0;34m,\u001b[0m \u001b[0mvalue\u001b[0m \u001b[0;32min\u001b[0m \u001b[0mostype\u001b[0m\u001b[0;34m.\u001b[0m\u001b[0miteritems\u001b[0m\u001b[0;34m(\u001b[0m\u001b[0;34m)\u001b[0m\u001b[0;34m]\u001b[0m\u001b[0;34m\u001b[0m\u001b[0m\n\u001b[1;32m     56\u001b[0m     \u001b[0;31m#print platform_check\u001b[0m\u001b[0;34m\u001b[0m\u001b[0;34m\u001b[0m\u001b[0m\n\u001b[0;32m---> 57\u001b[0;31m     \u001b[0;32mreturn\u001b[0m \u001b[0mplatform\u001b[0m\u001b[0;34m,\u001b[0m \u001b[0mdeveloper\u001b[0m\u001b[0;34m,\u001b[0m \u001b[0mengine\u001b[0m\u001b[0;34m,\u001b[0m \u001b[0mrelease_date\u001b[0m\u001b[0;34m,\u001b[0m           \u001b[0mgenre\u001b[0m\u001b[0;34m,\u001b[0m \u001b[0mtheme\u001b[0m\u001b[0;34m,\u001b[0m \u001b[0mplayers\u001b[0m\u001b[0;34m,\u001b[0m \u001b[0mscore_final\u001b[0m\u001b[0;34m,\u001b[0m \u001b[0mrating\u001b[0m\u001b[0;34m\u001b[0m\u001b[0m\n\u001b[0m",
      "\u001b[0;31mUnboundLocalError\u001b[0m: local variable 'developer' referenced before assignment"
     ]
    }
   ],
   "source": [
    "# Get the game link from gamelist.csv file\n",
    "df = pd.read_csv(\"IndieGameDB/gamelist.csv\", names = [\"link\", \"name\"])\n",
    "try_games = df.link.loc[1:5]\n",
    "# Save to csv file:\n",
    "with open(\"games_description.csv\", \"w\") as f:\n",
    "    for game in try_games:\n",
    "        gameurl = \"http://indiedb.com\"+game\n",
    "        platform_check, developer, engine, release_date, genre, theme, players, score_final, rating = getIndieGameInfo(gameurl)\n",
    "        f.write(\"{p:s},{d:s},{e:s},{r:s},{g:s},{t:s},{pl:s},\\\n",
    "               {sf:s},{ra:s}, {grl:s},\\n\".format(p=platform_check, d=developer, e=engine, r=release_date,\\\n",
    "                                      g=genre, t=theme, pl=players, sf=score_final, ra=rating, grl=gameurl))\n",
    "f.close()"
   ]
  },
  {
   "cell_type": "code",
   "execution_count": 108,
   "metadata": {
    "collapsed": false
   },
   "outputs": [],
   "source": [
    "mylist = "
   ]
  },
  {
   "cell_type": "code",
   "execution_count": 112,
   "metadata": {
    "collapsed": false
   },
   "outputs": [
    {
     "name": "stdout",
     "output_type": "stream",
     "text": [
      "SoBCharacter\n"
     ]
    }
   ],
   "source": [
    "for l in mylist:\n",
    "    a = l.split(\"\\n\")\n",
    "    if ('Developed By' in a) or ('Developer' in a) or ('Developer &amp; Publisher' in a):\n",
    "        developer = a[2]\n",
    "        print developer"
   ]
  },
  {
   "cell_type": "code",
   "execution_count": 1,
   "metadata": {
    "collapsed": true
   },
   "outputs": [],
   "source": [
    "import pandas as pd\n"
   ]
  },
  {
   "cell_type": "code",
   "execution_count": 2,
   "metadata": {
    "collapsed": false
   },
   "outputs": [
    {
     "ename": "IOError",
     "evalue": "File IndieGamesToScrape.csv does not exist",
     "output_type": "error",
     "traceback": [
      "\u001b[0;31m---------------------------------------------------------------------------\u001b[0m",
      "\u001b[0;31mIOError\u001b[0m                                   Traceback (most recent call last)",
      "\u001b[0;32m<ipython-input-2-da2e8cbeec94>\u001b[0m in \u001b[0;36m<module>\u001b[0;34m()\u001b[0m\n\u001b[0;32m----> 1\u001b[0;31m \u001b[0mdf\u001b[0m \u001b[0;34m=\u001b[0m \u001b[0mpd\u001b[0m\u001b[0;34m.\u001b[0m\u001b[0mread_csv\u001b[0m\u001b[0;34m(\u001b[0m\u001b[0;34m\"IndieGamesToScrape.csv\"\u001b[0m\u001b[0;34m)\u001b[0m\u001b[0;34m\u001b[0m\u001b[0m\n\u001b[0m",
      "\u001b[0;32m//anaconda/lib/python2.7/site-packages/pandas/io/parsers.pyc\u001b[0m in \u001b[0;36mparser_f\u001b[0;34m(filepath_or_buffer, sep, dialect, compression, doublequote, escapechar, quotechar, quoting, skipinitialspace, lineterminator, header, index_col, names, prefix, skiprows, skipfooter, skip_footer, na_values, na_fvalues, true_values, false_values, delimiter, converters, dtype, usecols, engine, delim_whitespace, as_recarray, na_filter, compact_ints, use_unsigned, low_memory, buffer_lines, warn_bad_lines, error_bad_lines, keep_default_na, thousands, comment, decimal, parse_dates, keep_date_col, dayfirst, date_parser, memory_map, float_precision, nrows, iterator, chunksize, verbose, encoding, squeeze, mangle_dupe_cols, tupleize_cols, infer_datetime_format, skip_blank_lines)\u001b[0m\n\u001b[1;32m    472\u001b[0m                     skip_blank_lines=skip_blank_lines)\n\u001b[1;32m    473\u001b[0m \u001b[0;34m\u001b[0m\u001b[0m\n\u001b[0;32m--> 474\u001b[0;31m         \u001b[0;32mreturn\u001b[0m \u001b[0m_read\u001b[0m\u001b[0;34m(\u001b[0m\u001b[0mfilepath_or_buffer\u001b[0m\u001b[0;34m,\u001b[0m \u001b[0mkwds\u001b[0m\u001b[0;34m)\u001b[0m\u001b[0;34m\u001b[0m\u001b[0m\n\u001b[0m\u001b[1;32m    475\u001b[0m \u001b[0;34m\u001b[0m\u001b[0m\n\u001b[1;32m    476\u001b[0m     \u001b[0mparser_f\u001b[0m\u001b[0;34m.\u001b[0m\u001b[0m__name__\u001b[0m \u001b[0;34m=\u001b[0m \u001b[0mname\u001b[0m\u001b[0;34m\u001b[0m\u001b[0m\n",
      "\u001b[0;32m//anaconda/lib/python2.7/site-packages/pandas/io/parsers.pyc\u001b[0m in \u001b[0;36m_read\u001b[0;34m(filepath_or_buffer, kwds)\u001b[0m\n\u001b[1;32m    248\u001b[0m \u001b[0;34m\u001b[0m\u001b[0m\n\u001b[1;32m    249\u001b[0m     \u001b[0;31m# Create the parser.\u001b[0m\u001b[0;34m\u001b[0m\u001b[0;34m\u001b[0m\u001b[0m\n\u001b[0;32m--> 250\u001b[0;31m     \u001b[0mparser\u001b[0m \u001b[0;34m=\u001b[0m \u001b[0mTextFileReader\u001b[0m\u001b[0;34m(\u001b[0m\u001b[0mfilepath_or_buffer\u001b[0m\u001b[0;34m,\u001b[0m \u001b[0;34m**\u001b[0m\u001b[0mkwds\u001b[0m\u001b[0;34m)\u001b[0m\u001b[0;34m\u001b[0m\u001b[0m\n\u001b[0m\u001b[1;32m    251\u001b[0m \u001b[0;34m\u001b[0m\u001b[0m\n\u001b[1;32m    252\u001b[0m     \u001b[0;32mif\u001b[0m \u001b[0;34m(\u001b[0m\u001b[0mnrows\u001b[0m \u001b[0;32mis\u001b[0m \u001b[0;32mnot\u001b[0m \u001b[0mNone\u001b[0m\u001b[0;34m)\u001b[0m \u001b[0;32mand\u001b[0m \u001b[0;34m(\u001b[0m\u001b[0mchunksize\u001b[0m \u001b[0;32mis\u001b[0m \u001b[0;32mnot\u001b[0m \u001b[0mNone\u001b[0m\u001b[0;34m)\u001b[0m\u001b[0;34m:\u001b[0m\u001b[0;34m\u001b[0m\u001b[0m\n",
      "\u001b[0;32m//anaconda/lib/python2.7/site-packages/pandas/io/parsers.pyc\u001b[0m in \u001b[0;36m__init__\u001b[0;34m(self, f, engine, **kwds)\u001b[0m\n\u001b[1;32m    564\u001b[0m             \u001b[0mself\u001b[0m\u001b[0;34m.\u001b[0m\u001b[0moptions\u001b[0m\u001b[0;34m[\u001b[0m\u001b[0;34m'has_index_names'\u001b[0m\u001b[0;34m]\u001b[0m \u001b[0;34m=\u001b[0m \u001b[0mkwds\u001b[0m\u001b[0;34m[\u001b[0m\u001b[0;34m'has_index_names'\u001b[0m\u001b[0;34m]\u001b[0m\u001b[0;34m\u001b[0m\u001b[0m\n\u001b[1;32m    565\u001b[0m \u001b[0;34m\u001b[0m\u001b[0m\n\u001b[0;32m--> 566\u001b[0;31m         \u001b[0mself\u001b[0m\u001b[0;34m.\u001b[0m\u001b[0m_make_engine\u001b[0m\u001b[0;34m(\u001b[0m\u001b[0mself\u001b[0m\u001b[0;34m.\u001b[0m\u001b[0mengine\u001b[0m\u001b[0;34m)\u001b[0m\u001b[0;34m\u001b[0m\u001b[0m\n\u001b[0m\u001b[1;32m    567\u001b[0m \u001b[0;34m\u001b[0m\u001b[0m\n\u001b[1;32m    568\u001b[0m     \u001b[0;32mdef\u001b[0m \u001b[0m_get_options_with_defaults\u001b[0m\u001b[0;34m(\u001b[0m\u001b[0mself\u001b[0m\u001b[0;34m,\u001b[0m \u001b[0mengine\u001b[0m\u001b[0;34m)\u001b[0m\u001b[0;34m:\u001b[0m\u001b[0;34m\u001b[0m\u001b[0m\n",
      "\u001b[0;32m//anaconda/lib/python2.7/site-packages/pandas/io/parsers.pyc\u001b[0m in \u001b[0;36m_make_engine\u001b[0;34m(self, engine)\u001b[0m\n\u001b[1;32m    703\u001b[0m     \u001b[0;32mdef\u001b[0m \u001b[0m_make_engine\u001b[0m\u001b[0;34m(\u001b[0m\u001b[0mself\u001b[0m\u001b[0;34m,\u001b[0m \u001b[0mengine\u001b[0m\u001b[0;34m=\u001b[0m\u001b[0;34m'c'\u001b[0m\u001b[0;34m)\u001b[0m\u001b[0;34m:\u001b[0m\u001b[0;34m\u001b[0m\u001b[0m\n\u001b[1;32m    704\u001b[0m         \u001b[0;32mif\u001b[0m \u001b[0mengine\u001b[0m \u001b[0;34m==\u001b[0m \u001b[0;34m'c'\u001b[0m\u001b[0;34m:\u001b[0m\u001b[0;34m\u001b[0m\u001b[0m\n\u001b[0;32m--> 705\u001b[0;31m             \u001b[0mself\u001b[0m\u001b[0;34m.\u001b[0m\u001b[0m_engine\u001b[0m \u001b[0;34m=\u001b[0m \u001b[0mCParserWrapper\u001b[0m\u001b[0;34m(\u001b[0m\u001b[0mself\u001b[0m\u001b[0;34m.\u001b[0m\u001b[0mf\u001b[0m\u001b[0;34m,\u001b[0m \u001b[0;34m**\u001b[0m\u001b[0mself\u001b[0m\u001b[0;34m.\u001b[0m\u001b[0moptions\u001b[0m\u001b[0;34m)\u001b[0m\u001b[0;34m\u001b[0m\u001b[0m\n\u001b[0m\u001b[1;32m    706\u001b[0m         \u001b[0;32melse\u001b[0m\u001b[0;34m:\u001b[0m\u001b[0;34m\u001b[0m\u001b[0m\n\u001b[1;32m    707\u001b[0m             \u001b[0;32mif\u001b[0m \u001b[0mengine\u001b[0m \u001b[0;34m==\u001b[0m \u001b[0;34m'python'\u001b[0m\u001b[0;34m:\u001b[0m\u001b[0;34m\u001b[0m\u001b[0m\n",
      "\u001b[0;32m//anaconda/lib/python2.7/site-packages/pandas/io/parsers.pyc\u001b[0m in \u001b[0;36m__init__\u001b[0;34m(self, src, **kwds)\u001b[0m\n\u001b[1;32m   1070\u001b[0m         \u001b[0mkwds\u001b[0m\u001b[0;34m[\u001b[0m\u001b[0;34m'allow_leading_cols'\u001b[0m\u001b[0;34m]\u001b[0m \u001b[0;34m=\u001b[0m \u001b[0mself\u001b[0m\u001b[0;34m.\u001b[0m\u001b[0mindex_col\u001b[0m \u001b[0;32mis\u001b[0m \u001b[0;32mnot\u001b[0m \u001b[0mFalse\u001b[0m\u001b[0;34m\u001b[0m\u001b[0m\n\u001b[1;32m   1071\u001b[0m \u001b[0;34m\u001b[0m\u001b[0m\n\u001b[0;32m-> 1072\u001b[0;31m         \u001b[0mself\u001b[0m\u001b[0;34m.\u001b[0m\u001b[0m_reader\u001b[0m \u001b[0;34m=\u001b[0m \u001b[0m_parser\u001b[0m\u001b[0;34m.\u001b[0m\u001b[0mTextReader\u001b[0m\u001b[0;34m(\u001b[0m\u001b[0msrc\u001b[0m\u001b[0;34m,\u001b[0m \u001b[0;34m**\u001b[0m\u001b[0mkwds\u001b[0m\u001b[0;34m)\u001b[0m\u001b[0;34m\u001b[0m\u001b[0m\n\u001b[0m\u001b[1;32m   1073\u001b[0m \u001b[0;34m\u001b[0m\u001b[0m\n\u001b[1;32m   1074\u001b[0m         \u001b[0;31m# XXX\u001b[0m\u001b[0;34m\u001b[0m\u001b[0;34m\u001b[0m\u001b[0m\n",
      "\u001b[0;32mpandas/parser.pyx\u001b[0m in \u001b[0;36mpandas.parser.TextReader.__cinit__ (pandas/parser.c:3173)\u001b[0;34m()\u001b[0m\n",
      "\u001b[0;32mpandas/parser.pyx\u001b[0m in \u001b[0;36mpandas.parser.TextReader._setup_parser_source (pandas/parser.c:5912)\u001b[0;34m()\u001b[0m\n",
      "\u001b[0;31mIOError\u001b[0m: File IndieGamesToScrape.csv does not exist"
     ]
    }
   ],
   "source": [
    "df = pd.read_csv(\"IndieGamesToScrape.csv\")"
   ]
  },
  {
   "cell_type": "code",
   "execution_count": null,
   "metadata": {
    "collapsed": true
   },
   "outputs": [],
   "source": []
  }
 ],
 "metadata": {
  "kernelspec": {
   "display_name": "Python 2",
   "language": "python",
   "name": "python2"
  },
  "language_info": {
   "codemirror_mode": {
    "name": "ipython",
    "version": 2
   },
   "file_extension": ".py",
   "mimetype": "text/x-python",
   "name": "python",
   "nbconvert_exporter": "python",
   "pygments_lexer": "ipython2",
   "version": "2.7.10"
  }
 },
 "nbformat": 4,
 "nbformat_minor": 0
}
